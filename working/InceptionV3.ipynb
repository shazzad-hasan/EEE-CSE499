{
 "cells": [
  {
   "attachments": {
    "image.png": {
     "image/png": "[encoded data removed]"
    }
   },
   "cell_type": "markdown",
   "metadata": {},
   "source": [
    "![image.png](attachment:image.png)"
   ]
  },
  {
   "cell_type": "markdown",
   "metadata": {},
   "source": [
    "# ConvNets for Cofficient a Prediction"
   ]
  },
  {
   "cell_type": "markdown",
   "metadata": {},
   "source": [
    "### InceptionV3"
   ]
  },
  {
   "cell_type": "code",
   "execution_count": 1,
   "metadata": {},
   "outputs": [
    {
     "name": "stderr",
     "output_type": "stream",
     "text": [
      "Using TensorFlow backend.\n"
     ]
    }
   ],
   "source": [
    "import os\n",
    "import cv2\n",
    "import pydicom\n",
    "import numpy as np \n",
    "import pandas as pd\n",
    "import seaborn as sns\n",
    "import matplotlib.pyplot as plt \n",
    "from tqdm.notebook import tqdm\n",
    "import keras.applications as tfa"
   ]
  },
  {
   "cell_type": "markdown",
   "metadata": {},
   "source": [
    "# Load and Transform Data"
   ]
  },
  {
   "cell_type": "code",
   "execution_count": 2,
   "metadata": {},
   "outputs": [],
   "source": [
    "train = pd.read_csv('D:/CSE499/osic-pulmonary-fibrosis-progression/train.csv') "
   ]
  },
  {
   "cell_type": "code",
   "execution_count": 3,
   "metadata": {},
   "outputs": [
    {
     "data": {
      "text/html": [
       "<div>\n",
       "<style scoped>\n",
       "    .dataframe tbody tr th:only-of-type {\n",
       "        vertical-align: middle;\n",
       "    }\n",
       "\n",
       "    .dataframe tbody tr th {\n",
       "        vertical-align: top;\n",
       "    }\n",
       "\n",
       "    .dataframe thead th {\n",
       "        text-align: right;\n",
       "    }\n",
       "</style>\n",
       "<table border=\"1\" class=\"dataframe\">\n",
       "  <thead>\n",
       "    <tr style=\"text-align: right;\">\n",
       "      <th></th>\n",
       "      <th>Patient</th>\n",
       "      <th>Weeks</th>\n",
       "      <th>FVC</th>\n",
       "      <th>Percent</th>\n",
       "      <th>Age</th>\n",
       "      <th>Sex</th>\n",
       "      <th>SmokingStatus</th>\n",
       "    </tr>\n",
       "  </thead>\n",
       "  <tbody>\n",
       "    <tr>\n",
       "      <th>0</th>\n",
       "      <td>ID00007637202177411956430</td>\n",
       "      <td>-4</td>\n",
       "      <td>2315</td>\n",
       "      <td>58.253649</td>\n",
       "      <td>79</td>\n",
       "      <td>Male</td>\n",
       "      <td>Ex-smoker</td>\n",
       "    </tr>\n",
       "    <tr>\n",
       "      <th>1</th>\n",
       "      <td>ID00007637202177411956430</td>\n",
       "      <td>5</td>\n",
       "      <td>2214</td>\n",
       "      <td>55.712129</td>\n",
       "      <td>79</td>\n",
       "      <td>Male</td>\n",
       "      <td>Ex-smoker</td>\n",
       "    </tr>\n",
       "    <tr>\n",
       "      <th>2</th>\n",
       "      <td>ID00007637202177411956430</td>\n",
       "      <td>7</td>\n",
       "      <td>2061</td>\n",
       "      <td>51.862104</td>\n",
       "      <td>79</td>\n",
       "      <td>Male</td>\n",
       "      <td>Ex-smoker</td>\n",
       "    </tr>\n",
       "    <tr>\n",
       "      <th>3</th>\n",
       "      <td>ID00007637202177411956430</td>\n",
       "      <td>9</td>\n",
       "      <td>2144</td>\n",
       "      <td>53.950679</td>\n",
       "      <td>79</td>\n",
       "      <td>Male</td>\n",
       "      <td>Ex-smoker</td>\n",
       "    </tr>\n",
       "    <tr>\n",
       "      <th>4</th>\n",
       "      <td>ID00007637202177411956430</td>\n",
       "      <td>11</td>\n",
       "      <td>2069</td>\n",
       "      <td>52.063412</td>\n",
       "      <td>79</td>\n",
       "      <td>Male</td>\n",
       "      <td>Ex-smoker</td>\n",
       "    </tr>\n",
       "  </tbody>\n",
       "</table>\n",
       "</div>"
      ],
      "text/plain": [
       "                     Patient  Weeks   FVC    Percent  Age   Sex SmokingStatus\n",
       "0  ID00007637202177411956430     -4  2315  58.253649   79  Male     Ex-smoker\n",
       "1  ID00007637202177411956430      5  2214  55.712129   79  Male     Ex-smoker\n",
       "2  ID00007637202177411956430      7  2061  51.862104   79  Male     Ex-smoker\n",
       "3  ID00007637202177411956430      9  2144  53.950679   79  Male     Ex-smoker\n",
       "4  ID00007637202177411956430     11  2069  52.063412   79  Male     Ex-smoker"
      ]
     },
     "execution_count": 3,
     "metadata": {},
     "output_type": "execute_result"
    }
   ],
   "source": [
    "train.head()"
   ]
  },
  {
   "cell_type": "raw",
   "metadata": {},
   "source": [
    "train.SmokingStatus.unique()"
   ]
  },
  {
   "cell_type": "code",
   "execution_count": 4,
   "metadata": {},
   "outputs": [],
   "source": [
    "def get_tab(df):\n",
    "    \" raturn an array which contains each patient normalized age, sex and smoking status\"\n",
    "    vector = [(df.Age.values[0] - 49) / (88 - 49)] \n",
    "    \n",
    "    if df.Sex.values[0].lower() == 'male':\n",
    "       vector.append(0)\n",
    "    else:\n",
    "       vector.append(1)\n",
    "    \n",
    "    if df.SmokingStatus.values[0] == 'Never smoked':\n",
    "        vector.extend([0,0])\n",
    "    elif df.SmokingStatus.values[0] == 'Ex-smoker':\n",
    "        vector.extend([1,1])\n",
    "    elif df.SmokingStatus.values[0] == 'Currently smokes':\n",
    "        vector.extend([0,1])\n",
    "    else:\n",
    "        vector.extend([1,0])\n",
    "    return np.array(vector) "
   ]
  },
  {
   "cell_type": "code",
   "execution_count": 5,
   "metadata": {},
   "outputs": [
    {
     "data": {
      "application/vnd.jupyter.widget-view+json": {
       "model_id": "06632f6b2dfe4a3c95300fbb6991e00e",
       "version_major": 2,
       "version_minor": 0
      },
      "text/plain": [
       "HBox(children=(HTML(value=''), FloatProgress(value=1.0, bar_style='info', layout=Layout(width='20px'), max=1.0…"
      ]
     },
     "metadata": {},
     "output_type": "display_data"
    },
    {
     "name": "stdout",
     "output_type": "stream",
     "text": [
      "\n"
     ]
    },
    {
     "name": "stderr",
     "output_type": "stream",
     "text": [
      "C:\\Users\\Monir\\anaconda3\\envs\\rabbi36\\lib\\site-packages\\ipykernel_launcher.py:9: FutureWarning: `rcond` parameter will change to the default of machine precision times ``max(M, N)`` where M and N are the input matrix dimensions.\n",
      "To use the future default and silence this warning we advise to pass `rcond=None`, to keep using the old, explicitly pass `rcond=-1`.\n",
      "  if __name__ == '__main__':\n"
     ]
    }
   ],
   "source": [
    "A = {} \n",
    "TAB = {} \n",
    "P = [] \n",
    "for i, p in tqdm(enumerate(train.Patient.unique())): # i index, p patient id\n",
    "    sub = train.loc[train.Patient == p, :] # find all data (weeks, FVC, Percent, Age, Sex, SmokingStatus) of a unique patient\n",
    "    fvc = sub.FVC.values # fvc values of the patient during the follow-up\n",
    "    weeks = sub.Weeks.values # follow-up weeks\n",
    "    c = np.vstack([weeks, np.ones(len(weeks))]).T # create an array by the follow-up weeks of shape(len(weeks),2)\n",
    "    a, b = np.linalg.lstsq(c, fvc)[0] # least-square sol, a=gradient matrix, b=right hand matrix \n",
    "    \n",
    "    A[p] = a\n",
    "    TAB[p] = get_tab(sub)\n",
    "    P.append(p)"
   ]
  },
  {
   "cell_type": "code",
   "execution_count": 6,
   "metadata": {},
   "outputs": [
    {
     "name": "stdout",
     "output_type": "stream",
     "text": [
      "[[ 0.  1.]\n",
      " [ 7.  1.]\n",
      " [ 9.  1.]\n",
      " [11.  1.]\n",
      " [13.  1.]\n",
      " [19.  1.]\n",
      " [31.  1.]\n",
      " [43.  1.]\n",
      " [59.  1.]]\n"
     ]
    }
   ],
   "source": [
    "print(c)"
   ]
  },
  {
   "cell_type": "code",
   "execution_count": 7,
   "metadata": {},
   "outputs": [],
   "source": [
    "def get_img(path):\n",
    "    \" read DICOM dataset and return resize images of size (512,512,1)\"\n",
    "    d = pydicom.dcmread(path) # read and parse the CT scan images (in DICOM format)\n",
    "    resized_image = cv2.resize((d.pixel_array - d.RescaleIntercept) / (d.RescaleSlope * 1000), (512,512))\n",
    "    return resized_image"
   ]
  },
  {
   "cell_type": "code",
   "execution_count": 8,
   "metadata": {},
   "outputs": [],
   "source": [
    "from keras.utils import Sequence\n",
    "\n",
    "class IGenerator(Sequence):\n",
    "    BAD_ID = ['ID00011637202177653955184', 'ID00052637202186188008618']\n",
    "    def __init__(self, keys, a, tab, batch_size):\n",
    "        \"key=patient, a=gradient matrix, tab=a particular patient's data\"\n",
    "        self.keys = [k for k in keys if k not in self.BAD_ID]\n",
    "        self.a = a\n",
    "        self.tab = tab\n",
    "        self.batch_size = batch_size\n",
    "        \n",
    "        self.train_data = {}\n",
    "        for p in train.Patient.values:\n",
    "            self.train_data[p] = os.listdir(f'D:/CSE499/osic-pulmonary-fibrosis-progression/train/{p}/')\n",
    "    \n",
    "    def __len__(self):\n",
    "        return 1000\n",
    "    \n",
    "    def __getitem__(self, idx):\n",
    "        x = []\n",
    "        a, tab = [], [] \n",
    "        keys = np.random.choice(self.keys, size = self.batch_size) # randomly chooses n=batch_size number of patients\n",
    "        for k in keys:\n",
    "            try:\n",
    "                i = np.random.choice(self.train_data[k], size=1)[0] # chooses some randomly images for kth patient\n",
    "                img = get_img(f'D:/CSE499/osic-pulmonary-fibrosis-progression/train/{k}/{i}') # resizes ith image of kth patient\n",
    "                x.append(img) # append kth patient's image data in the list x\n",
    "                a.append(self.a[k]) # append kth patient's gradinet in the list a\n",
    "                tab.append(self.tab[k]) # append kth patient's tabular data in the tab list\n",
    "            except:\n",
    "                print(k, i)\n",
    "       \n",
    "        x,a,tab = np.array(x), np.array(a), np.array(tab) # convert list to array\n",
    "        x = np.expand_dims(x, axis=-1) \n",
    "        return [x, tab] , a"
   ]
  },
  {
   "cell_type": "markdown",
   "metadata": {},
   "source": [
    "# Build the Model"
   ]
  },
  {
   "cell_type": "code",
   "execution_count": 9,
   "metadata": {},
   "outputs": [],
   "source": [
    "from keras.applications import resnet50, vgg16, inception_v3\n",
    "from keras import Model\n",
    "from keras.layers import (\n",
    "    Dense, Dropout, Activation, Flatten, Input, BatchNormalization, GlobalAveragePooling2D, GaussianNoise, \n",
    "    Add, Conv2D, AveragePooling2D, LeakyReLU, Concatenate \n",
    ")"
   ]
  },
  {
   "cell_type": "code",
   "execution_count": 10,
   "metadata": {},
   "outputs": [],
   "source": [
    "def get_model(model, shape):\n",
    "    models_dict = {\n",
    "        'InceptionV3': inception_v3.InceptionV3(input_shape=shape,weights=None,include_top=False)\n",
    "    }\n",
    "    return models_dict[model]\n",
    "\n",
    "def build_model(shape=(512, 512, 1), model_class=None):\n",
    "    inp = Input(shape=shape)\n",
    "    base = get_model(model_class, shape)\n",
    "    x = base(inp)\n",
    "    x = GlobalAveragePooling2D()(x)\n",
    "    inp2 = Input(shape=(4,)) # indicates that the expected input will be batches of 4-dimensional vectors\n",
    "    x2 = GaussianNoise(0.3)(inp2) # to mitigate overfitting\n",
    "    x = Concatenate()([x, x2]) \n",
    "    x = Dropout(0.5)(x) \n",
    "    x = Dense(1)(x)\n",
    "    model = Model([inp, inp2] , x)\n",
    "    return model"
   ]
  },
  {
   "cell_type": "code",
   "execution_count": 11,
   "metadata": {},
   "outputs": [
    {
     "name": "stdout",
     "output_type": "stream",
     "text": [
      "Model: \"model_1\"\n",
      "__________________________________________________________________________________________________\n",
      "Layer (type)                    Output Shape         Param #     Connected to                     \n",
      "==================================================================================================\n",
      "input_1 (InputLayer)            (None, 512, 512, 1)  0                                            \n",
      "__________________________________________________________________________________________________\n",
      "inception_v3 (Model)            (None, 14, 14, 2048) 21802208    input_1[0][0]                    \n",
      "__________________________________________________________________________________________________\n",
      "input_3 (InputLayer)            (None, 4)            0                                            \n",
      "__________________________________________________________________________________________________\n",
      "global_average_pooling2d_1 (Glo (None, 2048)         0           inception_v3[1][0]               \n",
      "__________________________________________________________________________________________________\n",
      "gaussian_noise_1 (GaussianNoise (None, 4)            0           input_3[0][0]                    \n",
      "__________________________________________________________________________________________________\n",
      "concatenate_3 (Concatenate)     (None, 2052)         0           global_average_pooling2d_1[0][0] \n",
      "                                                                 gaussian_noise_1[0][0]           \n",
      "__________________________________________________________________________________________________\n",
      "dropout_1 (Dropout)             (None, 2052)         0           concatenate_3[0][0]              \n",
      "__________________________________________________________________________________________________\n",
      "dense_1 (Dense)                 (None, 1)            2053        dropout_1[0][0]                  \n",
      "==================================================================================================\n",
      "Total params: 21,804,261\n",
      "Trainable params: 21,769,829\n",
      "Non-trainable params: 34,432\n",
      "__________________________________________________________________________________________________\n"
     ]
    }
   ],
   "source": [
    "MODEL_CLASS = 'InceptionV3'\n",
    "base_model = build_model(shape=(512, 512, 1), model_class=MODEL_CLASS)\n",
    "base_model.summary()"
   ]
  },
  {
   "cell_type": "markdown",
   "metadata": {},
   "source": [
    "# Compile and Train the Model"
   ]
  },
  {
   "cell_type": "code",
   "execution_count": 12,
   "metadata": {},
   "outputs": [],
   "source": [
    "BATCH_SIZE = 2\n",
    "EPOCHS = 80\n",
    "LR = 0.001\n",
    "SAVE_BEST = True"
   ]
  },
  {
   "cell_type": "code",
   "execution_count": 13,
   "metadata": {
    "scrolled": true
   },
   "outputs": [
    {
     "name": "stdout",
     "output_type": "stream",
     "text": [
      "Epoch 1/80\n",
      "32/32 [==============================] - 39s 1s/step - loss: 4.2607 - val_loss: 1.4350\n",
      "\n",
      "Epoch 00001: val_loss improved from inf to 1.43503, saving model to C:/Users/Monir/Documents/CSE499/models/Inception/InceptionV3_80_epochs.h5\n",
      "Epoch 2/80\n",
      "32/32 [==============================] - 6s 184ms/step - loss: 3.7850 - val_loss: 3.6902\n",
      "\n",
      "Epoch 00002: val_loss did not improve from 1.43503\n",
      "Epoch 3/80\n",
      "32/32 [==============================] - 6s 183ms/step - loss: 3.4008 - val_loss: 3.1315\n",
      "\n",
      "Epoch 00003: val_loss did not improve from 1.43503\n",
      "Epoch 4/80\n",
      "32/32 [==============================] - 6s 185ms/step - loss: 4.5655 - val_loss: 1.5370\n",
      "\n",
      "Epoch 00004: val_loss did not improve from 1.43503\n",
      "Epoch 5/80\n",
      "32/32 [==============================] - 6s 184ms/step - loss: 4.6014 - val_loss: 5052.0518\n",
      "\n",
      "Epoch 00005: val_loss did not improve from 1.43503\n",
      "Epoch 6/80\n",
      "32/32 [==============================] - 6s 184ms/step - loss: 4.3272 - val_loss: 44.9577\n",
      "\n",
      "Epoch 00006: val_loss did not improve from 1.43503\n",
      "\n",
      "Epoch 00006: ReduceLROnPlateau reducing learning rate to 0.0005000000237487257.\n",
      "Epoch 7/80\n",
      "32/32 [==============================] - 6s 185ms/step - loss: 4.0213 - val_loss: 11033.4990\n",
      "\n",
      "Epoch 00007: val_loss did not improve from 1.43503\n",
      "Epoch 8/80\n",
      "32/32 [==============================] - 6s 185ms/step - loss: 4.1640 - val_loss: 793.1643\n",
      "\n",
      "Epoch 00008: val_loss did not improve from 1.43503\n",
      "Epoch 9/80\n",
      "32/32 [==============================] - 6s 185ms/step - loss: 4.5890 - val_loss: 7.3727\n",
      "\n",
      "Epoch 00009: val_loss did not improve from 1.43503\n",
      "Epoch 10/80\n",
      "32/32 [==============================] - 6s 185ms/step - loss: 3.2960 - val_loss: 4.3389\n",
      "\n",
      "Epoch 00010: val_loss did not improve from 1.43503\n",
      "Epoch 11/80\n",
      "32/32 [==============================] - 6s 185ms/step - loss: 4.9881 - val_loss: 5.2557\n",
      "\n",
      "Epoch 00011: val_loss did not improve from 1.43503\n",
      "\n",
      "Epoch 00011: ReduceLROnPlateau reducing learning rate to 0.0002500000118743628.\n",
      "Epoch 12/80\n",
      "32/32 [==============================] - 6s 184ms/step - loss: 3.7726 - val_loss: 3.6727\n",
      "\n",
      "Epoch 00012: val_loss did not improve from 1.43503\n",
      "Epoch 13/80\n",
      "32/32 [==============================] - 6s 185ms/step - loss: 4.1851 - val_loss: 3.5089\n",
      "\n",
      "Epoch 00013: val_loss did not improve from 1.43503\n",
      "Epoch 14/80\n",
      "32/32 [==============================] - 6s 184ms/step - loss: 5.1852 - val_loss: 3.1382\n",
      "\n",
      "Epoch 00014: val_loss did not improve from 1.43503\n",
      "Epoch 15/80\n",
      "32/32 [==============================] - 6s 185ms/step - loss: 3.7153 - val_loss: 6.3524\n",
      "\n",
      "Epoch 00015: val_loss did not improve from 1.43503\n",
      "Epoch 16/80\n",
      "32/32 [==============================] - 6s 185ms/step - loss: 4.0777 - val_loss: 7.3684\n",
      "\n",
      "Epoch 00016: val_loss did not improve from 1.43503\n",
      "\n",
      "Epoch 00016: ReduceLROnPlateau reducing learning rate to 0.0001250000059371814.\n",
      "Epoch 17/80\n",
      "32/32 [==============================] - 6s 184ms/step - loss: 3.9359 - val_loss: 6.1061\n",
      "\n",
      "Epoch 00017: val_loss did not improve from 1.43503\n",
      "Epoch 18/80\n",
      "32/32 [==============================] - 6s 185ms/step - loss: 3.5152 - val_loss: 0.8630\n",
      "\n",
      "Epoch 00018: val_loss improved from 1.43503 to 0.86303, saving model to C:/Users/Monir/Documents/CSE499/models/Inception/InceptionV3_80_epochs.h5\n",
      "Epoch 19/80\n",
      "32/32 [==============================] - 6s 185ms/step - loss: 4.9135 - val_loss: 3.2580\n",
      "\n",
      "Epoch 00019: val_loss did not improve from 0.86303\n",
      "Epoch 20/80\n",
      "32/32 [==============================] - 6s 184ms/step - loss: 4.2824 - val_loss: 4.2417\n",
      "\n",
      "Epoch 00020: val_loss did not improve from 0.86303\n",
      "Epoch 21/80\n",
      "32/32 [==============================] - 6s 185ms/step - loss: 5.2142 - val_loss: 3.0618\n",
      "\n",
      "Epoch 00021: val_loss did not improve from 0.86303\n",
      "Epoch 22/80\n",
      "32/32 [==============================] - 6s 184ms/step - loss: 4.9764 - val_loss: 1.3959\n",
      "\n",
      "Epoch 00022: val_loss did not improve from 0.86303\n",
      "Epoch 23/80\n",
      "32/32 [==============================] - 6s 185ms/step - loss: 4.4003 - val_loss: 17.2472\n",
      "\n",
      "Epoch 00023: val_loss did not improve from 0.86303\n",
      "\n",
      "Epoch 00023: ReduceLROnPlateau reducing learning rate to 6.25000029685907e-05.\n",
      "Epoch 24/80\n",
      "32/32 [==============================] - 6s 185ms/step - loss: 4.8108 - val_loss: 10.2794\n",
      "\n",
      "Epoch 00024: val_loss did not improve from 0.86303\n",
      "Epoch 25/80\n",
      "32/32 [==============================] - 6s 185ms/step - loss: 4.2692 - val_loss: 1.0124\n",
      "\n",
      "Epoch 00025: val_loss did not improve from 0.86303\n",
      "Epoch 26/80\n",
      "32/32 [==============================] - 6s 185ms/step - loss: 4.1868 - val_loss: 8.7804\n",
      "\n",
      "Epoch 00026: val_loss did not improve from 0.86303\n",
      "Epoch 27/80\n",
      "32/32 [==============================] - 6s 185ms/step - loss: 4.8534 - val_loss: 3.0756\n",
      "\n",
      "Epoch 00027: val_loss did not improve from 0.86303\n",
      "Epoch 28/80\n",
      "32/32 [==============================] - 6s 185ms/step - loss: 3.9398 - val_loss: 2.1752\n",
      "\n",
      "Epoch 00028: val_loss did not improve from 0.86303\n",
      "\n",
      "Epoch 00028: ReduceLROnPlateau reducing learning rate to 3.125000148429535e-05.\n",
      "Epoch 29/80\n",
      "32/32 [==============================] - 6s 186ms/step - loss: 4.8573 - val_loss: 6.7225\n",
      "\n",
      "Epoch 00029: val_loss did not improve from 0.86303\n",
      "Epoch 30/80\n",
      "32/32 [==============================] - 6s 185ms/step - loss: 4.0205 - val_loss: 2.1335\n",
      "\n",
      "Epoch 00030: val_loss did not improve from 0.86303\n",
      "Epoch 31/80\n",
      "32/32 [==============================] - 6s 184ms/step - loss: 4.0253 - val_loss: 3.5765\n",
      "\n",
      "Epoch 00031: val_loss did not improve from 0.86303\n",
      "Epoch 32/80\n",
      "32/32 [==============================] - 6s 184ms/step - loss: 4.1836 - val_loss: 6.2731\n",
      "\n",
      "Epoch 00032: val_loss did not improve from 0.86303\n",
      "Epoch 33/80\n",
      "32/32 [==============================] - 6s 185ms/step - loss: 4.5834 - val_loss: 4.1782\n",
      "\n",
      "Epoch 00033: val_loss did not improve from 0.86303\n",
      "\n",
      "Epoch 00033: ReduceLROnPlateau reducing learning rate to 1.5625000742147677e-05.\n",
      "Epoch 34/80\n",
      "32/32 [==============================] - 6s 186ms/step - loss: 3.2718 - val_loss: 6.7161\n",
      "\n",
      "Epoch 00034: val_loss did not improve from 0.86303\n",
      "Epoch 35/80\n",
      "32/32 [==============================] - 6s 185ms/step - loss: 4.0929 - val_loss: 6.5605\n",
      "\n",
      "Epoch 00035: val_loss did not improve from 0.86303\n",
      "Epoch 36/80\n",
      "32/32 [==============================] - 6s 184ms/step - loss: 5.4933 - val_loss: 4.7179\n",
      "\n",
      "Epoch 00036: val_loss did not improve from 0.86303\n",
      "Epoch 37/80\n",
      "32/32 [==============================] - 6s 185ms/step - loss: 4.3356 - val_loss: 0.4442\n",
      "\n",
      "Epoch 00037: val_loss improved from 0.86303 to 0.44423, saving model to C:/Users/Monir/Documents/CSE499/models/Inception/InceptionV3_80_epochs.h5\n",
      "Epoch 38/80\n",
      "32/32 [==============================] - 6s 185ms/step - loss: 4.1855 - val_loss: 0.8726\n",
      "\n",
      "Epoch 00038: val_loss did not improve from 0.44423\n",
      "Epoch 39/80\n",
      "32/32 [==============================] - 6s 184ms/step - loss: 4.5983 - val_loss: 1.1431\n",
      "\n",
      "Epoch 00039: val_loss did not improve from 0.44423\n",
      "Epoch 40/80\n",
      "32/32 [==============================] - 6s 184ms/step - loss: 4.7871 - val_loss: 1.7267\n",
      "\n",
      "Epoch 00040: val_loss did not improve from 0.44423\n",
      "Epoch 41/80\n",
      "32/32 [==============================] - 6s 184ms/step - loss: 4.1475 - val_loss: 5.1977\n",
      "\n",
      "Epoch 00041: val_loss did not improve from 0.44423\n",
      "Epoch 42/80\n",
      "32/32 [==============================] - 6s 185ms/step - loss: 4.8054 - val_loss: 2.2395\n",
      "\n",
      "Epoch 00042: val_loss did not improve from 0.44423\n",
      "\n",
      "Epoch 00042: ReduceLROnPlateau reducing learning rate to 7.812500371073838e-06.\n",
      "Epoch 43/80\n",
      "32/32 [==============================] - 6s 184ms/step - loss: 4.9400 - val_loss: 2.7540\n",
      "\n",
      "Epoch 00043: val_loss did not improve from 0.44423\n",
      "Epoch 44/80\n",
      "32/32 [==============================] - 6s 184ms/step - loss: 4.2650 - val_loss: 0.5750\n",
      "\n",
      "Epoch 00044: val_loss did not improve from 0.44423\n",
      "Epoch 45/80\n",
      "32/32 [==============================] - 6s 185ms/step - loss: 4.4956 - val_loss: 7.7477\n",
      "\n",
      "Epoch 00045: val_loss did not improve from 0.44423\n",
      "Epoch 46/80\n",
      "32/32 [==============================] - 6s 184ms/step - loss: 3.7772 - val_loss: 5.2131\n",
      "\n",
      "Epoch 00046: val_loss did not improve from 0.44423\n",
      "Epoch 47/80\n",
      "32/32 [==============================] - 6s 185ms/step - loss: 4.5936 - val_loss: 4.4420\n",
      "\n",
      "Epoch 00047: val_loss did not improve from 0.44423\n",
      "\n",
      "Epoch 00047: ReduceLROnPlateau reducing learning rate to 3.906250185536919e-06.\n",
      "Epoch 48/80\n"
     ]
    },
    {
     "name": "stdout",
     "output_type": "stream",
     "text": [
      "32/32 [==============================] - 6s 184ms/step - loss: 4.1764 - val_loss: 0.8466\n",
      "\n",
      "Epoch 00048: val_loss did not improve from 0.44423\n",
      "Epoch 49/80\n",
      "32/32 [==============================] - 6s 185ms/step - loss: 3.6529 - val_loss: 12.5593\n",
      "\n",
      "Epoch 00049: val_loss did not improve from 0.44423\n",
      "Epoch 50/80\n",
      "32/32 [==============================] - 6s 185ms/step - loss: 4.2424 - val_loss: 7.9543\n",
      "\n",
      "Epoch 00050: val_loss did not improve from 0.44423\n",
      "Epoch 51/80\n",
      "32/32 [==============================] - 6s 185ms/step - loss: 4.7994 - val_loss: 6.3908\n",
      "\n",
      "Epoch 00051: val_loss did not improve from 0.44423\n",
      "Epoch 52/80\n",
      "32/32 [==============================] - 6s 185ms/step - loss: 4.7048 - val_loss: 2.1448\n",
      "\n",
      "Epoch 00052: val_loss did not improve from 0.44423\n",
      "\n",
      "Epoch 00052: ReduceLROnPlateau reducing learning rate to 1.9531250927684596e-06.\n",
      "Epoch 53/80\n",
      "32/32 [==============================] - 6s 189ms/step - loss: 4.2496 - val_loss: 2.6794\n",
      "\n",
      "Epoch 00053: val_loss did not improve from 0.44423\n",
      "Epoch 54/80\n",
      "32/32 [==============================] - 6s 185ms/step - loss: 5.0019 - val_loss: 14.8131\n",
      "\n",
      "Epoch 00054: val_loss did not improve from 0.44423\n",
      "Epoch 55/80\n",
      "32/32 [==============================] - 6s 184ms/step - loss: 4.6922 - val_loss: 5.4596\n",
      "\n",
      "Epoch 00055: val_loss did not improve from 0.44423\n",
      "Epoch 56/80\n",
      "32/32 [==============================] - 6s 185ms/step - loss: 3.8362 - val_loss: 1.6209\n",
      "\n",
      "Epoch 00056: val_loss did not improve from 0.44423\n",
      "Epoch 57/80\n",
      "32/32 [==============================] - 6s 184ms/step - loss: 3.5146 - val_loss: 8.4871\n",
      "\n",
      "Epoch 00057: val_loss did not improve from 0.44423\n",
      "\n",
      "Epoch 00057: ReduceLROnPlateau reducing learning rate to 9.765625463842298e-07.\n",
      "Epoch 58/80\n",
      "32/32 [==============================] - 6s 185ms/step - loss: 3.6548 - val_loss: 0.1919\n",
      "\n",
      "Epoch 00058: val_loss improved from 0.44423 to 0.19194, saving model to C:/Users/Monir/Documents/CSE499/models/Inception/InceptionV3_80_epochs.h5\n",
      "Epoch 59/80\n",
      "32/32 [==============================] - 6s 185ms/step - loss: 3.1935 - val_loss: 1.1584\n",
      "\n",
      "Epoch 00059: val_loss did not improve from 0.19194\n",
      "Epoch 60/80\n",
      "32/32 [==============================] - 6s 185ms/step - loss: 3.6872 - val_loss: 10.2086\n",
      "\n",
      "Epoch 00060: val_loss did not improve from 0.19194\n",
      "Epoch 61/80\n",
      "32/32 [==============================] - 6s 184ms/step - loss: 4.0639 - val_loss: 1.0912\n",
      "\n",
      "Epoch 00061: val_loss did not improve from 0.19194\n",
      "Epoch 62/80\n",
      "32/32 [==============================] - 6s 190ms/step - loss: 4.0520 - val_loss: 3.6433\n",
      "\n",
      "Epoch 00062: val_loss did not improve from 0.19194\n",
      "Epoch 63/80\n",
      "32/32 [==============================] - 6s 185ms/step - loss: 4.0324 - val_loss: 8.3790\n",
      "\n",
      "Epoch 00063: val_loss did not improve from 0.19194\n",
      "\n",
      "Epoch 00063: ReduceLROnPlateau reducing learning rate to 4.882812731921149e-07.\n",
      "Epoch 64/80\n",
      "32/32 [==============================] - 6s 187ms/step - loss: 3.8033 - val_loss: 3.8030\n",
      "\n",
      "Epoch 00064: val_loss did not improve from 0.19194\n",
      "Epoch 65/80\n",
      "32/32 [==============================] - 6s 186ms/step - loss: 3.7735 - val_loss: 14.4289\n",
      "\n",
      "Epoch 00065: val_loss did not improve from 0.19194\n",
      "Epoch 66/80\n",
      "32/32 [==============================] - 6s 186ms/step - loss: 4.5944 - val_loss: 16.9173\n",
      "\n",
      "Epoch 00066: val_loss did not improve from 0.19194\n",
      "Epoch 67/80\n",
      "32/32 [==============================] - 6s 185ms/step - loss: 3.7706 - val_loss: 3.6367\n",
      "\n",
      "Epoch 00067: val_loss did not improve from 0.19194\n",
      "Epoch 68/80\n",
      "32/32 [==============================] - 6s 185ms/step - loss: 2.8841 - val_loss: 1.2294\n",
      "\n",
      "Epoch 00068: val_loss did not improve from 0.19194\n",
      "\n",
      "Epoch 00068: ReduceLROnPlateau reducing learning rate to 2.4414063659605745e-07.\n",
      "Epoch 69/80\n",
      "32/32 [==============================] - 6s 185ms/step - loss: 4.2958 - val_loss: 5.3808\n",
      "\n",
      "Epoch 00069: val_loss did not improve from 0.19194\n",
      "Epoch 70/80\n",
      "32/32 [==============================] - 6s 185ms/step - loss: 4.1025 - val_loss: 4.5695\n",
      "\n",
      "Epoch 00070: val_loss did not improve from 0.19194\n",
      "Epoch 71/80\n",
      "32/32 [==============================] - 6s 186ms/step - loss: 3.7783 - val_loss: 2.3592\n",
      "\n",
      "Epoch 00071: val_loss did not improve from 0.19194\n",
      "Epoch 72/80\n",
      "32/32 [==============================] - 6s 185ms/step - loss: 4.3611 - val_loss: 3.6245\n",
      "\n",
      "Epoch 00072: val_loss did not improve from 0.19194\n",
      "Epoch 73/80\n",
      "32/32 [==============================] - 6s 185ms/step - loss: 4.4537 - val_loss: 0.8885\n",
      "\n",
      "Epoch 00073: val_loss did not improve from 0.19194\n",
      "\n",
      "Epoch 00073: ReduceLROnPlateau reducing learning rate to 1.2207031829802872e-07.\n",
      "Epoch 74/80\n",
      "32/32 [==============================] - 6s 185ms/step - loss: 5.7656 - val_loss: 4.0531\n",
      "\n",
      "Epoch 00074: val_loss did not improve from 0.19194\n",
      "Epoch 75/80\n",
      "32/32 [==============================] - 6s 185ms/step - loss: 4.3935 - val_loss: 2.8297\n",
      "\n",
      "Epoch 00075: val_loss did not improve from 0.19194\n",
      "Epoch 76/80\n",
      "32/32 [==============================] - 6s 184ms/step - loss: 3.6020 - val_loss: 2.7167\n",
      "\n",
      "Epoch 00076: val_loss did not improve from 0.19194\n",
      "Epoch 77/80\n",
      "32/32 [==============================] - 6s 185ms/step - loss: 4.0913 - val_loss: 1.7504\n",
      "\n",
      "Epoch 00077: val_loss did not improve from 0.19194\n",
      "Epoch 78/80\n",
      "32/32 [==============================] - 6s 184ms/step - loss: 4.5828 - val_loss: 1.8625\n",
      "\n",
      "Epoch 00078: val_loss did not improve from 0.19194\n",
      "\n",
      "Epoch 00078: ReduceLROnPlateau reducing learning rate to 6.103515914901436e-08.\n",
      "Epoch 79/80\n",
      "32/32 [==============================] - 6s 186ms/step - loss: 4.6997 - val_loss: 3.6735\n",
      "\n",
      "Epoch 00079: val_loss did not improve from 0.19194\n",
      "Epoch 80/80\n",
      "32/32 [==============================] - 6s 184ms/step - loss: 3.8116 - val_loss: 5.1608\n",
      "\n",
      "Epoch 00080: val_loss did not improve from 0.19194\n",
      "Training Complete!!!\n"
     ]
    }
   ],
   "source": [
    "import keras\n",
    "P = np.array(P)\n",
    "subs = []\n",
    "folds_history = []\n",
    "\n",
    "\"\"\"\n",
    "er = keras.callbacks.EarlyStopping(monitor=\"val_loss\",min_delta=1e-3,patience=15,verbose=1,mode=\"auto\",baseline=None,\n",
    "      restore_best_weights=True,) #Stop training when a monitored metric has stopped improving.\n",
    "\"\"\"\n",
    "\n",
    "cpt = keras.callbacks.ModelCheckpoint(filepath=f'C:/Users/Monir/Documents/CSE499/models/Inception/{MODEL_CLASS}_{EPOCHS}_epochs.h5',monitor='val_loss',verbose=1, \n",
    "    save_best_only=SAVE_BEST,mode='auto') #to save model or weights in a checkpoint file at lowest validation loss\n",
    "\n",
    "rlp = keras.callbacks.ReduceLROnPlateau(monitor='val_loss',factor=0.5,patience=5, verbose=1, min_lr=1e-8) \n",
    "     #Reduce learning rate when a metric has stopped improving.\n",
    "     # if improvement stops, after 5 epochs learning rate will be reduced\n",
    "\n",
    "model = build_model(model_class=MODEL_CLASS)\n",
    "model.compile(optimizer=keras.optimizers.Adam(learning_rate=LR), loss=\"mae\") \n",
    "history = model.fit(IGenerator(keys=P, a = A, tab = TAB, batch_size=BATCH_SIZE), \n",
    "                    steps_per_epoch = 32,\n",
    "                    validation_data=IGenerator(keys=P, a = A, tab = TAB, batch_size=BATCH_SIZE),\n",
    "                    validation_steps = 16, \n",
    "                    callbacks = [cpt, rlp], \n",
    "                    epochs=EPOCHS)\n",
    "folds_history.append(history.history)\n",
    "print('Training Complete!!!')"
   ]
  },
  {
   "cell_type": "markdown",
   "metadata": {},
   "source": [
    "# Save Model History"
   ]
  },
  {
   "cell_type": "code",
   "execution_count": 14,
   "metadata": {},
   "outputs": [],
   "source": [
    "# convert the history.history dict to a pandas DataFrame:     \n",
    "hist_df = pd.DataFrame(history.history) \n",
    "\n",
    "# save to json:  \n",
    "hist_json_file = 'Inception_history_80_epoch.json' \n",
    "with open(hist_json_file, mode='w') as f:\n",
    "    hist_df.to_json(f)\n",
    "\n",
    "# or save to csv: \n",
    "hist_csv_file = 'Inception_history_80_epoch.csv'\n",
    "with open(hist_csv_file, mode='w') as f:\n",
    "    hist_df.to_csv(f)"
   ]
  },
  {
   "cell_type": "markdown",
   "metadata": {},
   "source": [
    "# Visualize Training Results "
   ]
  },
  {
   "cell_type": "code",
   "execution_count": 15,
   "metadata": {},
   "outputs": [],
   "source": [
    "result_dir = 'C:/Users/Monir/Documents/CSE499/results_and_figures/Inception/'\n",
    "\n",
    "import tikzplotlib\n",
    "loss = history.history['loss']\n",
    "val_loss = history.history['val_loss']\n",
    "epochs_range = range(EPOCHS)"
   ]
  },
  {
   "cell_type": "code",
   "execution_count": 16,
   "metadata": {},
   "outputs": [
    {
     "data": {
      "image/png": "[encoded data removed]",
      "text/plain": [
       "<Figure size 432x288 with 1 Axes>"
      ]
     },
     "metadata": {
      "needs_background": "light"
     },
     "output_type": "display_data"
    }
   ],
   "source": [
    "plt.plot(epochs_range, loss, 'bo', label='Training Loss')\n",
    "plt.plot(epochs_range, val_loss, 'b', label='Validation Loss')\n",
    "plt.title('Training and Validation Loss')\n",
    "plt.xlabel('Epochs')\n",
    "plt.ylabel('Loss')\n",
    "plt.legend(loc='upper right')\n",
    "\n",
    "plt.savefig(result_dir + 'Inception_loss_80_epoch.png')\n",
    "plt.savefig(result_dir + 'Inception_loss_80_epoch.pdf', dpi=150)\n",
    "tikzplotlib.save(result_dir + 'Inception_loss_80_epoch.tex', encoding='utf-8')\n",
    "\n",
    "plt.show()"
   ]
  },
  {
   "cell_type": "code",
   "execution_count": 17,
   "metadata": {},
   "outputs": [],
   "source": [
    "def smooth_curve(points, factor=0.95):\n",
    "    smoothed_points = []\n",
    "    for point in points:\n",
    "        if smoothed_points:\n",
    "            previous = smoothed_points[-1]\n",
    "            smoothed_points.append(previous * factor + point * (1 - factor))\n",
    "        else:\n",
    "            smoothed_points.append(point)\n",
    "    return smoothed_points"
   ]
  },
  {
   "cell_type": "code",
   "execution_count": 18,
   "metadata": {},
   "outputs": [
    {
     "data": {
      "image/png": "[encoded data removed]",
      "text/plain": [
       "<Figure size 432x288 with 1 Axes>"
      ]
     },
     "metadata": {
      "needs_background": "light"
     },
     "output_type": "display_data"
    }
   ],
   "source": [
    "epochs_range = range(10,EPOCHS)\n",
    "plt.plot(epochs_range,\n",
    "         smooth_curve(loss[10:]), 'bo', label='Training loss')\n",
    "plt.plot(epochs_range,smooth_curve(val_loss[10:]), 'b', label='Validation loss')\n",
    "plt.title('Training and validation loss')\n",
    "plt.xlabel('Epochs')\n",
    "plt.ylabel('Loss')\n",
    "plt.legend()\n",
    "\n",
    "plt.savefig(result_dir + 'Inception_loss_smooth_80_epoch.png')\n",
    "plt.savefig(result_dir + 'Inception_loss_smooth_80_epoch.pdf', dpi=150)\n",
    "tikzplotlib.save(result_dir + 'Inception_loss_smooth_80_epoch.tex', encoding='utf-8')\n",
    "\n",
    "plt.show()"
   ]
  },
  {
   "cell_type": "markdown",
   "metadata": {},
   "source": [
    "# Quantile Regression to calculate quantile"
   ]
  },
  {
   "cell_type": "code",
   "execution_count": 19,
   "metadata": {},
   "outputs": [],
   "source": [
    "def score(fvc_true, fvc_pred, sigma):\n",
    "    sigma_clip = np.maximum(sigma, 70)\n",
    "    delta = np.abs(fvc_true - fvc_pred)\n",
    "    delta = np.minimum(delta, 1000)\n",
    "    sq2 = np.sqrt(2)\n",
    "    metric = (delta / sigma_clip)*sq2 + np.log(sigma_clip* sq2)\n",
    "    return np.mean(metric)"
   ]
  },
  {
   "cell_type": "code",
   "execution_count": 20,
   "metadata": {},
   "outputs": [
    {
     "data": {
      "application/vnd.jupyter.widget-view+json": {
       "model_id": "740b6d761df841b3952665cd30c6e93e",
       "version_major": 2,
       "version_minor": 0
      },
      "text/plain": [
       "HBox(children=(HTML(value=''), FloatProgress(value=0.0, max=9.0), HTML(value='')))"
      ]
     },
     "metadata": {},
     "output_type": "display_data"
    },
    {
     "name": "stdout",
     "output_type": "stream",
     "text": [
      "\n"
     ]
    },
    {
     "ename": "FileNotFoundError",
     "evalue": "[WinError 3] The system cannot find the path specified: 'D:/CSE499/osic-pulmonary-fibrosis-progression/train/([array([[[[-1.024],\\n         [-1.024],\\n         [-1.024],\\n         ...,\\n         [-1.024],\\n         [-1.024],\\n         [-1.024]],\\n\\n        [[-1.024],\\n         [-1.024],\\n         [-1.024],\\n         ...,\\n         [-1.024],\\n         [-1.024],\\n         [-1.024]],\\n\\n        [[-1.024],\\n         [-1.024],\\n         [-1.024],\\n         ...,\\n         [-1.024],\\n         [-1.024],\\n         [-1.024]],\\n\\n        ...,\\n\\n        [[-1.024],\\n         [-1.024],\\n         [-1.024],\\n         ...,\\n         [-1.024],\\n         [-1.024],\\n         [-1.024]],\\n\\n        [[-1.024],\\n         [-1.024],\\n         [-1.024],\\n         ...,\\n         [-1.024],\\n         [-1.024],\\n         [-1.024]],\\n\\n        [[-1.024],\\n         [-1.024],\\n         [-1.024],\\n         ...,\\n         [-1.024],\\n         [-1.024],\\n         [-1.024]]],\\n\\n\\n       [[[ 1.054],\\n         [ 1.065],\\n         [ 1.024],\\n         ...,\\n         [ 1.099],\\n         [ 1.084],\\n         [ 1.024]],\\n\\n        [[ 1.09 ],\\n         [ 1.024],\\n         [ 1.129],\\n         ...,\\n         [ 1.061],\\n         [ 1.058],\\n         [ 1.029]],\\n\\n        [[ 1.039],\\n         [ 1.049],\\n         [ 1.085],\\n         ...,\\n         [ 1.024],\\n         [ 1.091],\\n         [ 1.024]],\\n\\n        ...,\\n\\n        [[ 1.233],\\n         [ 1.038],\\n         [ 1.025],\\n         ...,\\n         [ 1.885],\\n         [ 1.777],\\n         [ 1.276]],\\n\\n        [[ 1.2  ],\\n         [ 1.024],\\n         [ 1.042],\\n         ...,\\n         [ 1.609],\\n         [ 1.14 ],\\n         [ 1.024]],\\n\\n        [[ 1.143],\\n         [ 1.024],\\n         [ 1.053],\\n         ...,\\n         [ 1.024],\\n         [ 1.135],\\n         [ 1.024]]]]), array([[0.87179487, 0.        , 0.        , 0.        ],\\n       [1.        , 0.        , 1.        , 1.        ]])], array([-2.90423317, -5.58589663]))/'",
     "output_type": "error",
     "traceback": [
      "\u001b[1;31m---------------------------------------------------------------------------\u001b[0m",
      "\u001b[1;31mFileNotFoundError\u001b[0m                         Traceback (most recent call last)",
      "\u001b[1;32m<ipython-input-20-83ef78db9888>\u001b[0m in \u001b[0;36m<module>\u001b[1;34m()\u001b[0m\n\u001b[0;32m     12\u001b[0m         \u001b[1;32mif\u001b[0m \u001b[0mp\u001b[0m \u001b[1;32min\u001b[0m \u001b[1;33m[\u001b[0m\u001b[1;34m'ID00011637202177653955184'\u001b[0m\u001b[1;33m,\u001b[0m \u001b[1;34m'ID00052637202186188008618'\u001b[0m\u001b[1;33m]\u001b[0m\u001b[1;33m:\u001b[0m\u001b[1;33m\u001b[0m\u001b[1;33m\u001b[0m\u001b[0m\n\u001b[0;32m     13\u001b[0m             \u001b[1;32mcontinue\u001b[0m\u001b[1;33m\u001b[0m\u001b[1;33m\u001b[0m\u001b[0m\n\u001b[1;32m---> 14\u001b[1;33m         \u001b[1;32mfor\u001b[0m \u001b[0mi\u001b[0m \u001b[1;32min\u001b[0m \u001b[0mos\u001b[0m\u001b[1;33m.\u001b[0m\u001b[0mlistdir\u001b[0m\u001b[1;33m(\u001b[0m\u001b[1;34mf'D:/CSE499/osic-pulmonary-fibrosis-progression/train/{p}/'\u001b[0m\u001b[1;33m)\u001b[0m\u001b[1;33m:\u001b[0m\u001b[1;33m\u001b[0m\u001b[1;33m\u001b[0m\u001b[0m\n\u001b[0m\u001b[0;32m     15\u001b[0m             \u001b[0mx\u001b[0m\u001b[1;33m.\u001b[0m\u001b[0mappend\u001b[0m\u001b[1;33m(\u001b[0m\u001b[0mget_img\u001b[0m\u001b[1;33m(\u001b[0m\u001b[1;34mf'D:/CSE499/osic-pulmonary-fibrosis-progression/train/{p}/{i}'\u001b[0m\u001b[1;33m)\u001b[0m\u001b[1;33m)\u001b[0m\u001b[1;33m\u001b[0m\u001b[1;33m\u001b[0m\u001b[0m\n\u001b[0;32m     16\u001b[0m             \u001b[0mtab\u001b[0m\u001b[1;33m.\u001b[0m\u001b[0mappend\u001b[0m\u001b[1;33m(\u001b[0m\u001b[0mget_tab\u001b[0m\u001b[1;33m(\u001b[0m\u001b[0mtrain\u001b[0m\u001b[1;33m.\u001b[0m\u001b[0mloc\u001b[0m\u001b[1;33m[\u001b[0m\u001b[0mtrain\u001b[0m\u001b[1;33m.\u001b[0m\u001b[0mPatient\u001b[0m \u001b[1;33m==\u001b[0m \u001b[0mp\u001b[0m\u001b[1;33m,\u001b[0m \u001b[1;33m:\u001b[0m\u001b[1;33m]\u001b[0m\u001b[1;33m)\u001b[0m\u001b[1;33m)\u001b[0m\u001b[1;33m\u001b[0m\u001b[1;33m\u001b[0m\u001b[0m\n",
      "\u001b[1;31mFileNotFoundError\u001b[0m: [WinError 3] The system cannot find the path specified: 'D:/CSE499/osic-pulmonary-fibrosis-progression/train/([array([[[[-1.024],\\n         [-1.024],\\n         [-1.024],\\n         ...,\\n         [-1.024],\\n         [-1.024],\\n         [-1.024]],\\n\\n        [[-1.024],\\n         [-1.024],\\n         [-1.024],\\n         ...,\\n         [-1.024],\\n         [-1.024],\\n         [-1.024]],\\n\\n        [[-1.024],\\n         [-1.024],\\n         [-1.024],\\n         ...,\\n         [-1.024],\\n         [-1.024],\\n         [-1.024]],\\n\\n        ...,\\n\\n        [[-1.024],\\n         [-1.024],\\n         [-1.024],\\n         ...,\\n         [-1.024],\\n         [-1.024],\\n         [-1.024]],\\n\\n        [[-1.024],\\n         [-1.024],\\n         [-1.024],\\n         ...,\\n         [-1.024],\\n         [-1.024],\\n         [-1.024]],\\n\\n        [[-1.024],\\n         [-1.024],\\n         [-1.024],\\n         ...,\\n         [-1.024],\\n         [-1.024],\\n         [-1.024]]],\\n\\n\\n       [[[ 1.054],\\n         [ 1.065],\\n         [ 1.024],\\n         ...,\\n         [ 1.099],\\n         [ 1.084],\\n         [ 1.024]],\\n\\n        [[ 1.09 ],\\n         [ 1.024],\\n         [ 1.129],\\n         ...,\\n         [ 1.061],\\n         [ 1.058],\\n         [ 1.029]],\\n\\n        [[ 1.039],\\n         [ 1.049],\\n         [ 1.085],\\n         ...,\\n         [ 1.024],\\n         [ 1.091],\\n         [ 1.024]],\\n\\n        ...,\\n\\n        [[ 1.233],\\n         [ 1.038],\\n         [ 1.025],\\n         ...,\\n         [ 1.885],\\n         [ 1.777],\\n         [ 1.276]],\\n\\n        [[ 1.2  ],\\n         [ 1.024],\\n         [ 1.042],\\n         ...,\\n         [ 1.609],\\n         [ 1.14 ],\\n         [ 1.024]],\\n\\n        [[ 1.143],\\n         [ 1.024],\\n         [ 1.053],\\n         ...,\\n         [ 1.024],\\n         [ 1.135],\\n         [ 1.024]]]]), array([[0.87179487, 0.        , 0.        , 0.        ],\\n       [1.        , 0.        , 1.        , 1.        ]])], array([-2.90423317, -5.58589663]))/'"
     ]
    }
   ],
   "source": [
    "from tqdm.notebook import tqdm\n",
    "\n",
    "validation_data=IGenerator(keys=P, a = A, tab = TAB, batch_size=BATCH_SIZE)\n",
    "\n",
    "metric = []\n",
    "for q in tqdm(range(1, 10)):\n",
    "    m = []\n",
    "    for p in validation_data:\n",
    "        x = [] \n",
    "        tab = [] \n",
    "        \n",
    "        if p in ['ID00011637202177653955184', 'ID00052637202186188008618']:\n",
    "            continue\n",
    "        for i in os.listdir(f'D:/CSE499/osic-pulmonary-fibrosis-progression/train/{p}/'):\n",
    "            x.append(get_img(f'D:/CSE499/osic-pulmonary-fibrosis-progression/train/{p}/{i}')) \n",
    "            tab.append(get_tab(train.loc[train.Patient == p, :])) \n",
    "        tab = np.array(tab) \n",
    "    \n",
    "        x = np.expand_dims(x, axis=-1) \n",
    "        _a = model.predict([x, tab]) \n",
    "        print(\"shape(_a): \",shape(_a))\n",
    "        a = np.quantile(_a, q / 10) # quantile regression on the prediction \n",
    "        print(\"a: \", a)\n",
    "        \n",
    "        percent_true = train.Percent.values[train.Patient == p]\n",
    "        fvc_true = train.FVC.values[train.Patient == p]\n",
    "        weeks_true = train.Weeks.values[train.Patient == p]\n",
    "        \n",
    "        fvc = a * (weeks_true - weeks_true[0]) + fvc_true[0]\n",
    "        percent = percent_true[0] - a * abs(weeks_true - weeks_true[0])\n",
    "        m.append(score(fvc_true, fvc, percent))\n",
    "    print(np.mean(m))\n",
    "    metric.append(np.mean(m))"
   ]
  },
  {
   "cell_type": "code",
   "execution_count": null,
   "metadata": {},
   "outputs": [],
   "source": []
  }
 ],
 "metadata": {
  "kernelspec": {
   "display_name": "Python 3",
   "language": "python",
   "name": "python3"
  },
  "language_info": {
   "codemirror_mode": {
    "name": "ipython",
    "version": 3
   },
   "file_extension": ".py",
   "mimetype": "text/x-python",
   "name": "python",
   "nbconvert_exporter": "python",
   "pygments_lexer": "ipython3",
   "version": "3.6.12"
  }
 },
 "nbformat": 4,
 "nbformat_minor": 4
}
