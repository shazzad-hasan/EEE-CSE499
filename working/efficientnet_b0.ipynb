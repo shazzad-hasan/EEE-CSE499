{
 "cells": [
  {
   "cell_type": "markdown",
   "metadata": {},
   "source": [
    "# EfficientNet"
   ]
  },
  {
   "cell_type": "code",
   "execution_count": 1,
   "metadata": {},
   "outputs": [],
   "source": [
    "import os\n",
    "import cv2\n",
    "import pydicom\n",
    "import numpy as np\n",
    "import pandas as pd\n",
    "import seaborn as sns\n",
    "import tensorflow as tf\n",
    "import matplotlib.pyplot as plt\n",
    "from tqdm.notebook import tqdm"
   ]
  },
  {
   "cell_type": "markdown",
   "metadata": {},
   "source": [
    "# Load and Transform Data"
   ]
  },
  {
   "cell_type": "code",
   "execution_count": 2,
   "metadata": {},
   "outputs": [],
   "source": [
    "train = pd.read_csv('D:/CSE499/osic-pulmonary-fibrosis-progression/train.csv')"
   ]
  },
  {
   "cell_type": "code",
   "execution_count": 3,
   "metadata": {},
   "outputs": [
    {
     "data": {
      "text/html": [
       "<div>\n",
       "<style scoped>\n",
       "    .dataframe tbody tr th:only-of-type {\n",
       "        vertical-align: middle;\n",
       "    }\n",
       "\n",
       "    .dataframe tbody tr th {\n",
       "        vertical-align: top;\n",
       "    }\n",
       "\n",
       "    .dataframe thead th {\n",
       "        text-align: right;\n",
       "    }\n",
       "</style>\n",
       "<table border=\"1\" class=\"dataframe\">\n",
       "  <thead>\n",
       "    <tr style=\"text-align: right;\">\n",
       "      <th></th>\n",
       "      <th>Patient</th>\n",
       "      <th>Weeks</th>\n",
       "      <th>FVC</th>\n",
       "      <th>Percent</th>\n",
       "      <th>Age</th>\n",
       "      <th>Sex</th>\n",
       "      <th>SmokingStatus</th>\n",
       "    </tr>\n",
       "  </thead>\n",
       "  <tbody>\n",
       "    <tr>\n",
       "      <th>0</th>\n",
       "      <td>ID00007637202177411956430</td>\n",
       "      <td>-4</td>\n",
       "      <td>2315</td>\n",
       "      <td>58.253649</td>\n",
       "      <td>79</td>\n",
       "      <td>Male</td>\n",
       "      <td>Ex-smoker</td>\n",
       "    </tr>\n",
       "    <tr>\n",
       "      <th>1</th>\n",
       "      <td>ID00007637202177411956430</td>\n",
       "      <td>5</td>\n",
       "      <td>2214</td>\n",
       "      <td>55.712129</td>\n",
       "      <td>79</td>\n",
       "      <td>Male</td>\n",
       "      <td>Ex-smoker</td>\n",
       "    </tr>\n",
       "    <tr>\n",
       "      <th>2</th>\n",
       "      <td>ID00007637202177411956430</td>\n",
       "      <td>7</td>\n",
       "      <td>2061</td>\n",
       "      <td>51.862104</td>\n",
       "      <td>79</td>\n",
       "      <td>Male</td>\n",
       "      <td>Ex-smoker</td>\n",
       "    </tr>\n",
       "    <tr>\n",
       "      <th>3</th>\n",
       "      <td>ID00007637202177411956430</td>\n",
       "      <td>9</td>\n",
       "      <td>2144</td>\n",
       "      <td>53.950679</td>\n",
       "      <td>79</td>\n",
       "      <td>Male</td>\n",
       "      <td>Ex-smoker</td>\n",
       "    </tr>\n",
       "    <tr>\n",
       "      <th>4</th>\n",
       "      <td>ID00007637202177411956430</td>\n",
       "      <td>11</td>\n",
       "      <td>2069</td>\n",
       "      <td>52.063412</td>\n",
       "      <td>79</td>\n",
       "      <td>Male</td>\n",
       "      <td>Ex-smoker</td>\n",
       "    </tr>\n",
       "  </tbody>\n",
       "</table>\n",
       "</div>"
      ],
      "text/plain": [
       "                     Patient  Weeks   FVC    Percent  Age   Sex SmokingStatus\n",
       "0  ID00007637202177411956430     -4  2315  58.253649   79  Male     Ex-smoker\n",
       "1  ID00007637202177411956430      5  2214  55.712129   79  Male     Ex-smoker\n",
       "2  ID00007637202177411956430      7  2061  51.862104   79  Male     Ex-smoker\n",
       "3  ID00007637202177411956430      9  2144  53.950679   79  Male     Ex-smoker\n",
       "4  ID00007637202177411956430     11  2069  52.063412   79  Male     Ex-smoker"
      ]
     },
     "execution_count": 3,
     "metadata": {},
     "output_type": "execute_result"
    }
   ],
   "source": [
    "train.head()"
   ]
  },
  {
   "cell_type": "code",
   "execution_count": 4,
   "metadata": {},
   "outputs": [
    {
     "data": {
      "text/plain": [
       "153.145377828922"
      ]
     },
     "execution_count": 4,
     "metadata": {},
     "output_type": "execute_result"
    }
   ],
   "source": [
    "train['Percent'].max()"
   ]
  },
  {
   "cell_type": "code",
   "execution_count": 5,
   "metadata": {},
   "outputs": [
    {
     "data": {
      "text/plain": [
       "28.877576671694303"
      ]
     },
     "execution_count": 5,
     "metadata": {},
     "output_type": "execute_result"
    }
   ],
   "source": [
    "train['Percent'].min()"
   ]
  },
  {
   "cell_type": "code",
   "execution_count": 6,
   "metadata": {},
   "outputs": [
    {
     "data": {
      "text/plain": [
       "array(['Ex-smoker', 'Never smoked', 'Currently smokes'], dtype=object)"
      ]
     },
     "execution_count": 6,
     "metadata": {},
     "output_type": "execute_result"
    }
   ],
   "source": [
    "train.SmokingStatus.unique()"
   ]
  },
  {
   "cell_type": "code",
   "execution_count": 7,
   "metadata": {},
   "outputs": [],
   "source": [
    "def get_tab(df):\n",
    "    \" return an array which contains each patient normalized age, sex and smoking status\"\n",
    "    vector = [(df.Age.values[0] - 30) / 30] \n",
    "    \n",
    "    if df.Sex.values[0].lower() == 'male':\n",
    "       vector.append(0)\n",
    "    else:\n",
    "       vector.append(1)\n",
    "    \n",
    "    if df.SmokingStatus.values[0] == 'Never smoked':\n",
    "        vector.extend([0,0])\n",
    "    elif df.SmokingStatus.values[0] == 'Ex-smoker':\n",
    "        vector.extend([1,1])\n",
    "    elif df.SmokingStatus.values[0] == 'Currently smokes':\n",
    "        vector.extend([0,1])\n",
    "    else:\n",
    "        vector.extend([1,0])\n",
    "    return np.array(vector)"
   ]
  },
  {
   "cell_type": "code",
   "execution_count": 8,
   "metadata": {},
   "outputs": [
    {
     "data": {
      "application/vnd.jupyter.widget-view+json": {
       "model_id": "a571ba40347441ceb5d94cd95bd0dadd",
       "version_major": 2,
       "version_minor": 0
      },
      "text/plain": [
       "HBox(children=(HTML(value=''), FloatProgress(value=1.0, bar_style='info', layout=Layout(width='20px'), max=1.0…"
      ]
     },
     "metadata": {},
     "output_type": "display_data"
    },
    {
     "name": "stdout",
     "output_type": "stream",
     "text": [
      "\n"
     ]
    },
    {
     "name": "stderr",
     "output_type": "stream",
     "text": [
      "C:\\Users\\Monir\\anaconda3\\envs\\rabbi36\\lib\\site-packages\\ipykernel_launcher.py:9: FutureWarning: `rcond` parameter will change to the default of machine precision times ``max(M, N)`` where M and N are the input matrix dimensions.\n",
      "To use the future default and silence this warning we advise to pass `rcond=None`, to keep using the old, explicitly pass `rcond=-1`.\n",
      "  if __name__ == '__main__':\n"
     ]
    }
   ],
   "source": [
    "A = {} \n",
    "TAB = {} \n",
    "P = [] \n",
    "for i, p in tqdm(enumerate(train.Patient.unique())): # i index, p patient id\n",
    "    sub = train.loc[train.Patient == p, :] # find all data (weeks, FVC, Percent, Age, Sex, SmokingStatus) of a unique patient\n",
    "    fvc = sub.FVC.values # fvc values of the patient during the follow-up\n",
    "    weeks = sub.Weeks.values # follow-up weeks\n",
    "    c = np.vstack([weeks, np.ones(len(weeks))]).T # create an array by the follow-up weeks of shape(len(weeks),2)\n",
    "    a, b = np.linalg.lstsq(c, fvc)[0] # least-square sol, a=gradient matrix, b=right hand matrix \n",
    "    \n",
    "    A[p] = a\n",
    "    TAB[p] = get_tab(sub)\n",
    "    P.append(p)"
   ]
  },
  {
   "cell_type": "code",
   "execution_count": 9,
   "metadata": {},
   "outputs": [],
   "source": [
    "def get_img(path):\n",
    "    \" read DICOM dataset and return resize images of size (512,512,1)\"\n",
    "    d = pydicom.dcmread(path) # read and parse the CT scan images (in DICOM format)\n",
    "    resized_image = cv2.resize((d.pixel_array - d.RescaleIntercept) / (d.RescaleSlope * 1000), (512,512))\n",
    "    return resized_image"
   ]
  },
  {
   "cell_type": "code",
   "execution_count": 10,
   "metadata": {},
   "outputs": [],
   "source": [
    "from tensorflow.keras.utils import Sequence\n",
    "\n",
    "class IGenerator(Sequence):\n",
    "    BAD_ID = ['ID00011637202177653955184', 'ID00052637202186188008618']\n",
    "    def __init__(self, keys, a, tab, batch_size):\n",
    "        \"key=patient, a=gradient matrix, tab=a particular patient's data\"\n",
    "        self.keys = [k for k in keys if k not in self.BAD_ID]\n",
    "        self.a = a\n",
    "        self.tab = tab\n",
    "        self.batch_size = batch_size\n",
    "        \n",
    "        self.train_data = {}\n",
    "        for p in train.Patient.values:\n",
    "            self.train_data[p] = os.listdir(f'D:/CSE499/osic-pulmonary-fibrosis-progression/train/{p}/')\n",
    "    \n",
    "    def __len__(self):\n",
    "        return 1000\n",
    "    \n",
    "    def __getitem__(self, idx):\n",
    "        x = []\n",
    "        a, tab = [], [] \n",
    "        keys = np.random.choice(self.keys, size = self.batch_size) # randomly chooses n=batch_size number of patients\n",
    "        for k in keys:\n",
    "            try:\n",
    "                i = np.random.choice(self.train_data[k], size=1)[0] # chooses some randomly images for kth patient\n",
    "                img = get_img(f'D:/CSE499/osic-pulmonary-fibrosis-progression/train/{k}/{i}') # resizes ith image of kth patient\n",
    "                x.append(img) # append kth patient's image data in the list x\n",
    "                a.append(self.a[k]) # append kth patient's gradinet in the list a\n",
    "                tab.append(self.tab[k]) # append kth patient's tabular data in the tab list\n",
    "            except:\n",
    "                print(k, i)\n",
    "       \n",
    "        x,a,tab = np.array(x), np.array(a), np.array(tab) # convert list to array\n",
    "        x = np.expand_dims(x, axis=-1) \n",
    "        return [x, tab] , a"
   ]
  },
  {
   "cell_type": "markdown",
   "metadata": {},
   "source": [
    "## Build the Model"
   ]
  },
  {
   "cell_type": "code",
   "execution_count": 11,
   "metadata": {},
   "outputs": [],
   "source": [
    "from tensorflow.keras import Model\n",
    "from tensorflow.keras.layers import (\n",
    "    Dense, Dropout, Activation, Flatten, Input, BatchNormalization, GlobalAveragePooling2D, GaussianNoise, \n",
    "    Add, Conv2D, AveragePooling2D, LeakyReLU, Concatenate \n",
    ")"
   ]
  },
  {
   "cell_type": "code",
   "execution_count": 12,
   "metadata": {},
   "outputs": [],
   "source": [
    "import efficientnet.tfkeras as efn\n",
    "\n",
    "def get_model(model, shape):\n",
    "    models_dict = {\n",
    "        'b0': efn.EfficientNetB0(input_shape=shape,weights=None,include_top=False),\n",
    "        'b1': efn.EfficientNetB1(input_shape=shape,weights=None,include_top=False),\n",
    "        'b2': efn.EfficientNetB2(input_shape=shape,weights=None,include_top=False),\n",
    "        'b3': efn.EfficientNetB3(input_shape=shape,weights=None,include_top=False),\n",
    "        'b4': efn.EfficientNetB4(input_shape=shape,weights=None,include_top=False),\n",
    "        'b5': efn.EfficientNetB5(input_shape=shape,weights=None,include_top=False),\n",
    "        'b6': efn.EfficientNetB6(input_shape=shape,weights=None,include_top=False),\n",
    "        'b7': efn.EfficientNetB7(input_shape=shape,weights=None,include_top=False),\n",
    "        #'RNet50': resnet50.ResNet50(input_shape=shape,weights=None,include_top=False),\n",
    "        #'V16': vgg16.VGG16(input_shape=shape,weights=None,include_top=False)\n",
    "    }\n",
    "    return models_dict[model]\n",
    "\n",
    "def build_model(shape=(512, 512, 1), model_class=None):\n",
    "    inp = Input(shape=shape)\n",
    "    base = get_model(model_class, shape)\n",
    "    x = base(inp)\n",
    "    x = GlobalAveragePooling2D()(x)\n",
    "    inp2 = Input(shape=(4,)) # indicates that the expected input will be batches of 4-dimensional vectors\n",
    "    x2 = GaussianNoise(0.2)(inp2) # to mitigate overfitting\n",
    "    x = Concatenate()([x, x2]) \n",
    "    x = Dropout(0.5)(x) \n",
    "    x = Dense(1)(x)\n",
    "    model = Model([inp, inp2] , x)\n",
    "    return model"
   ]
  },
  {
   "cell_type": "code",
   "execution_count": 13,
   "metadata": {
    "scrolled": true
   },
   "outputs": [
    {
     "name": "stdout",
     "output_type": "stream",
     "text": [
      "Model: \"model\"\n",
      "__________________________________________________________________________________________________\n",
      "Layer (type)                    Output Shape         Param #     Connected to                     \n",
      "==================================================================================================\n",
      "input_1 (InputLayer)            [(None, 512, 512, 1) 0                                            \n",
      "__________________________________________________________________________________________________\n",
      "efficientnet-b0 (Model)         (None, 16, 16, 1280) 4048988     input_1[0][0]                    \n",
      "__________________________________________________________________________________________________\n",
      "input_10 (InputLayer)           [(None, 4)]          0                                            \n",
      "__________________________________________________________________________________________________\n",
      "global_average_pooling2d (Globa (None, 1280)         0           efficientnet-b0[1][0]            \n",
      "__________________________________________________________________________________________________\n",
      "gaussian_noise (GaussianNoise)  (None, 4)            0           input_10[0][0]                   \n",
      "__________________________________________________________________________________________________\n",
      "concatenate (Concatenate)       (None, 1284)         0           global_average_pooling2d[0][0]   \n",
      "                                                                 gaussian_noise[0][0]             \n",
      "__________________________________________________________________________________________________\n",
      "dropout (Dropout)               (None, 1284)         0           concatenate[0][0]                \n",
      "__________________________________________________________________________________________________\n",
      "dense (Dense)                   (None, 1)            1285        dropout[0][0]                    \n",
      "==================================================================================================\n",
      "Total params: 4,050,273\n",
      "Trainable params: 4,008,257\n",
      "Non-trainable params: 42,016\n",
      "__________________________________________________________________________________________________\n"
     ]
    }
   ],
   "source": [
    "MODEL_CLASS = 'b0'\n",
    "base_model = build_model(shape=(512, 512, 1), model_class=MODEL_CLASS)\n",
    "base_model.summary()"
   ]
  },
  {
   "cell_type": "markdown",
   "metadata": {},
   "source": [
    "## Compile and Train the Model"
   ]
  },
  {
   "cell_type": "code",
   "execution_count": 14,
   "metadata": {},
   "outputs": [],
   "source": [
    "BATCH_SIZE = 4\n",
    "EPOCHS = 80\n",
    "LR = 0.001\n",
    "SAVE_BEST = True"
   ]
  },
  {
   "cell_type": "code",
   "execution_count": 15,
   "metadata": {},
   "outputs": [
    {
     "name": "stdout",
     "output_type": "stream",
     "text": [
      "Epoch 1/80\n",
      "32/32 [==============================] - ETA: 0s - loss: 4.4413\n",
      "Epoch 00001: val_loss improved from inf to 3.95091, saving model to b0_80_epochs.h5\n",
      "32/32 [==============================] - 9s 292ms/step - loss: 4.4413 - val_loss: 3.9509 - lr: 0.0010\n",
      "Epoch 2/80\n",
      "32/32 [==============================] - ETA: 0s - loss: 4.6858\n",
      "Epoch 00002: val_loss did not improve from 3.95091\n",
      "32/32 [==============================] - 7s 233ms/step - loss: 4.6858 - val_loss: 6.0858 - lr: 0.0010\n",
      "Epoch 3/80\n",
      "32/32 [==============================] - ETA: 0s - loss: 4.4526\n",
      "Epoch 00003: val_loss did not improve from 3.95091\n",
      "32/32 [==============================] - 8s 242ms/step - loss: 4.4526 - val_loss: 4.1175 - lr: 0.0010\n",
      "Epoch 4/80\n",
      "32/32 [==============================] - ETA: 0s - loss: 4.3161\n",
      "Epoch 00004: val_loss did not improve from 3.95091\n",
      "32/32 [==============================] - 8s 237ms/step - loss: 4.3161 - val_loss: 6.8101 - lr: 0.0010\n",
      "Epoch 5/80\n",
      "32/32 [==============================] - ETA: 0s - loss: 4.3539\n",
      "Epoch 00005: val_loss did not improve from 3.95091\n",
      "32/32 [==============================] - 7s 221ms/step - loss: 4.3539 - val_loss: 5.1218 - lr: 0.0010\n",
      "Epoch 6/80\n",
      "32/32 [==============================] - ETA: 0s - loss: 3.8414\n",
      "Epoch 00006: val_loss did not improve from 3.95091\n",
      "\n",
      "Epoch 00006: ReduceLROnPlateau reducing learning rate to 0.0005000000237487257.\n",
      "32/32 [==============================] - 7s 228ms/step - loss: 3.8414 - val_loss: 49.1313 - lr: 0.0010\n",
      "Epoch 7/80\n",
      "32/32 [==============================] - ETA: 0s - loss: 4.8614\n",
      "Epoch 00007: val_loss did not improve from 3.95091\n",
      "32/32 [==============================] - 7s 224ms/step - loss: 4.8614 - val_loss: 25.2021 - lr: 5.0000e-04\n",
      "Epoch 8/80\n",
      "32/32 [==============================] - ETA: 0s - loss: 4.0356\n",
      "Epoch 00008: val_loss did not improve from 3.95091\n",
      "32/32 [==============================] - 7s 228ms/step - loss: 4.0356 - val_loss: 5.6396 - lr: 5.0000e-04\n",
      "Epoch 9/80\n",
      "32/32 [==============================] - ETA: 0s - loss: 4.0368\n",
      "Epoch 00009: val_loss did not improve from 3.95091\n",
      "32/32 [==============================] - 7s 222ms/step - loss: 4.0368 - val_loss: 4.5666 - lr: 5.0000e-04\n",
      "Epoch 10/80\n",
      "32/32 [==============================] - ETA: 0s - loss: 4.0251\n",
      "Epoch 00010: val_loss improved from 3.95091 to 3.90128, saving model to b0_80_epochs.h5\n",
      "32/32 [==============================] - 10s 309ms/step - loss: 4.0251 - val_loss: 3.9013 - lr: 5.0000e-04\n",
      "Epoch 11/80\n",
      "32/32 [==============================] - ETA: 0s - loss: 4.7264\n",
      "Epoch 00011: val_loss improved from 3.90128 to 3.70338, saving model to b0_80_epochs.h5\n",
      "32/32 [==============================] - 12s 371ms/step - loss: 4.7264 - val_loss: 3.7034 - lr: 5.0000e-04\n",
      "Epoch 12/80\n",
      "32/32 [==============================] - ETA: 0s - loss: 4.2495\n",
      "Epoch 00012: val_loss did not improve from 3.70338\n",
      "32/32 [==============================] - 8s 235ms/step - loss: 4.2495 - val_loss: 4.4674 - lr: 5.0000e-04\n",
      "Epoch 13/80\n",
      "32/32 [==============================] - ETA: 0s - loss: 4.4525\n",
      "Epoch 00013: val_loss did not improve from 3.70338\n",
      "32/32 [==============================] - 7s 219ms/step - loss: 4.4525 - val_loss: 4.1869 - lr: 5.0000e-04\n",
      "Epoch 14/80\n",
      "32/32 [==============================] - ETA: 0s - loss: 4.1361\n",
      "Epoch 00014: val_loss did not improve from 3.70338\n",
      "32/32 [==============================] - 7s 220ms/step - loss: 4.1361 - val_loss: 4.7479 - lr: 5.0000e-04\n",
      "Epoch 15/80\n",
      "32/32 [==============================] - ETA: 0s - loss: 4.3426\n",
      "Epoch 00015: val_loss did not improve from 3.70338\n",
      "32/32 [==============================] - 7s 218ms/step - loss: 4.3426 - val_loss: 4.3902 - lr: 5.0000e-04\n",
      "Epoch 16/80\n",
      "32/32 [==============================] - ETA: 0s - loss: 3.7280\n",
      "Epoch 00016: val_loss did not improve from 3.70338\n",
      "\n",
      "Epoch 00016: ReduceLROnPlateau reducing learning rate to 0.0002500000118743628.\n",
      "32/32 [==============================] - 7s 221ms/step - loss: 3.7280 - val_loss: 4.5137 - lr: 5.0000e-04\n",
      "Epoch 17/80\n",
      "32/32 [==============================] - ETA: 0s - loss: 4.9294\n",
      "Epoch 00017: val_loss did not improve from 3.70338\n",
      "32/32 [==============================] - 7s 219ms/step - loss: 4.9294 - val_loss: 4.8010 - lr: 2.5000e-04\n",
      "Epoch 18/80\n",
      "32/32 [==============================] - ETA: 0s - loss: 4.3243\n",
      "Epoch 00018: val_loss did not improve from 3.70338\n",
      "32/32 [==============================] - 7s 215ms/step - loss: 4.3243 - val_loss: 4.2125 - lr: 2.5000e-04\n",
      "Epoch 19/80\n",
      "32/32 [==============================] - ETA: 0s - loss: 4.6564\n",
      "Epoch 00019: val_loss did not improve from 3.70338\n",
      "32/32 [==============================] - 7s 223ms/step - loss: 4.6564 - val_loss: 4.5996 - lr: 2.5000e-04\n",
      "Epoch 20/80\n",
      "32/32 [==============================] - ETA: 0s - loss: 3.8328\n",
      "Epoch 00020: val_loss improved from 3.70338 to 3.52435, saving model to b0_80_epochs.h5\n",
      "32/32 [==============================] - 10s 325ms/step - loss: 3.8328 - val_loss: 3.5243 - lr: 2.5000e-04\n",
      "Epoch 21/80\n",
      "32/32 [==============================] - ETA: 0s - loss: 4.4631\n",
      "Epoch 00021: val_loss did not improve from 3.52435\n",
      "32/32 [==============================] - 7s 229ms/step - loss: 4.4631 - val_loss: 4.2589 - lr: 2.5000e-04\n",
      "Epoch 22/80\n",
      "32/32 [==============================] - ETA: 0s - loss: 4.5665\n",
      "Epoch 00022: val_loss did not improve from 3.52435\n",
      "32/32 [==============================] - 7s 205ms/step - loss: 4.5665 - val_loss: 5.6890 - lr: 2.5000e-04\n",
      "Epoch 23/80\n",
      "32/32 [==============================] - ETA: 0s - loss: 4.4479\n",
      "Epoch 00023: val_loss did not improve from 3.52435\n",
      "32/32 [==============================] - 7s 211ms/step - loss: 4.4479 - val_loss: 5.1270 - lr: 2.5000e-04\n",
      "Epoch 24/80\n",
      "32/32 [==============================] - ETA: 0s - loss: 4.1156\n",
      "Epoch 00024: val_loss did not improve from 3.52435\n",
      "32/32 [==============================] - 7s 210ms/step - loss: 4.1156 - val_loss: 3.7631 - lr: 2.5000e-04\n",
      "Epoch 25/80\n",
      "32/32 [==============================] - ETA: 0s - loss: 4.1732\n",
      "Epoch 00025: val_loss did not improve from 3.52435\n",
      "\n",
      "Epoch 00025: ReduceLROnPlateau reducing learning rate to 0.0001250000059371814.\n",
      "32/32 [==============================] - 7s 208ms/step - loss: 4.1732 - val_loss: 4.7028 - lr: 2.5000e-04\n",
      "Epoch 26/80\n",
      "32/32 [==============================] - ETA: 0s - loss: 4.4014\n",
      "Epoch 00026: val_loss did not improve from 3.52435\n",
      "32/32 [==============================] - 7s 209ms/step - loss: 4.4014 - val_loss: 3.7136 - lr: 1.2500e-04\n",
      "Epoch 27/80\n",
      "32/32 [==============================] - ETA: 0s - loss: 4.7525\n",
      "Epoch 00027: val_loss did not improve from 3.52435\n",
      "32/32 [==============================] - 7s 210ms/step - loss: 4.7525 - val_loss: 4.6100 - lr: 1.2500e-04\n",
      "Epoch 28/80\n",
      "32/32 [==============================] - ETA: 0s - loss: 3.8411\n",
      "Epoch 00028: val_loss did not improve from 3.52435\n",
      "32/32 [==============================] - 7s 204ms/step - loss: 3.8411 - val_loss: 5.1115 - lr: 1.2500e-04\n",
      "Epoch 29/80\n",
      "32/32 [==============================] - ETA: 0s - loss: 4.0087\n",
      "Epoch 00029: val_loss did not improve from 3.52435\n",
      "32/32 [==============================] - 7s 210ms/step - loss: 4.0087 - val_loss: 4.9538 - lr: 1.2500e-04\n",
      "Epoch 30/80\n",
      "32/32 [==============================] - ETA: 0s - loss: 4.4572\n",
      "Epoch 00030: val_loss did not improve from 3.52435\n",
      "\n",
      "Epoch 00030: ReduceLROnPlateau reducing learning rate to 6.25000029685907e-05.\n",
      "32/32 [==============================] - 7s 208ms/step - loss: 4.4572 - val_loss: 7.1207 - lr: 1.2500e-04\n",
      "Epoch 31/80\n",
      "32/32 [==============================] - ETA: 0s - loss: 4.8734\n",
      "Epoch 00031: val_loss did not improve from 3.52435\n",
      "32/32 [==============================] - 7s 214ms/step - loss: 4.8734 - val_loss: 4.8618 - lr: 6.2500e-05\n",
      "Epoch 32/80\n",
      "32/32 [==============================] - ETA: 0s - loss: 5.4583\n",
      "Epoch 00032: val_loss did not improve from 3.52435\n",
      "32/32 [==============================] - 7s 208ms/step - loss: 5.4583 - val_loss: 4.1867 - lr: 6.2500e-05\n",
      "Epoch 33/80\n",
      "32/32 [==============================] - ETA: 0s - loss: 4.3057\n",
      "Epoch 00033: val_loss did not improve from 3.52435\n",
      "32/32 [==============================] - 7s 207ms/step - loss: 4.3057 - val_loss: 5.6300 - lr: 6.2500e-05\n",
      "Epoch 34/80\n",
      "32/32 [==============================] - ETA: 0s - loss: 3.7879\n",
      "Epoch 00034: val_loss did not improve from 3.52435\n",
      "32/32 [==============================] - 7s 211ms/step - loss: 3.7879 - val_loss: 5.2337 - lr: 6.2500e-05\n",
      "Epoch 35/80\n",
      "32/32 [==============================] - ETA: 0s - loss: 3.7996\n",
      "Epoch 00035: val_loss did not improve from 3.52435\n",
      "\n",
      "Epoch 00035: ReduceLROnPlateau reducing learning rate to 3.125000148429535e-05.\n",
      "32/32 [==============================] - 7s 214ms/step - loss: 3.7996 - val_loss: 3.9146 - lr: 6.2500e-05\n",
      "Epoch 36/80\n",
      "32/32 [==============================] - ETA: 0s - loss: 3.8757\n",
      "Epoch 00036: val_loss did not improve from 3.52435\n",
      "32/32 [==============================] - 6s 200ms/step - loss: 3.8757 - val_loss: 4.1142 - lr: 3.1250e-05\n",
      "Epoch 37/80\n",
      "32/32 [==============================] - ETA: 0s - loss: 4.5878\n",
      "Epoch 00037: val_loss did not improve from 3.52435\n",
      "32/32 [==============================] - 7s 218ms/step - loss: 4.5878 - val_loss: 3.7991 - lr: 3.1250e-05\n",
      "Epoch 38/80\n",
      "32/32 [==============================] - ETA: 0s - loss: 4.4907\n",
      "Epoch 00038: val_loss did not improve from 3.52435\n",
      "32/32 [==============================] - 7s 209ms/step - loss: 4.4907 - val_loss: 5.1311 - lr: 3.1250e-05\n",
      "Epoch 39/80\n",
      "32/32 [==============================] - ETA: 0s - loss: 4.0850\n",
      "Epoch 00039: val_loss did not improve from 3.52435\n",
      "32/32 [==============================] - 6s 201ms/step - loss: 4.0850 - val_loss: 4.3974 - lr: 3.1250e-05\n",
      "Epoch 40/80\n",
      "32/32 [==============================] - ETA: 0s - loss: 4.0903\n",
      "Epoch 00040: val_loss did not improve from 3.52435\n",
      "\n",
      "Epoch 00040: ReduceLROnPlateau reducing learning rate to 1.5625000742147677e-05.\n",
      "32/32 [==============================] - 6s 196ms/step - loss: 4.0903 - val_loss: 4.0548 - lr: 3.1250e-05\n",
      "Epoch 41/80\n",
      "32/32 [==============================] - ETA: 0s - loss: 5.0905\n",
      "Epoch 00041: val_loss did not improve from 3.52435\n",
      "32/32 [==============================] - 6s 202ms/step - loss: 5.0905 - val_loss: 4.2636 - lr: 1.5625e-05\n",
      "Epoch 42/80\n",
      "32/32 [==============================] - ETA: 0s - loss: 4.4558\n",
      "Epoch 00042: val_loss did not improve from 3.52435\n",
      "32/32 [==============================] - 7s 205ms/step - loss: 4.4558 - val_loss: 5.0525 - lr: 1.5625e-05\n",
      "Epoch 43/80\n",
      "32/32 [==============================] - ETA: 0s - loss: 4.1011\n",
      "Epoch 00043: val_loss did not improve from 3.52435\n",
      "32/32 [==============================] - 7s 211ms/step - loss: 4.1011 - val_loss: 4.0154 - lr: 1.5625e-05\n",
      "Epoch 44/80\n",
      "32/32 [==============================] - ETA: 0s - loss: 3.8690\n",
      "Epoch 00044: val_loss did not improve from 3.52435\n",
      "32/32 [==============================] - 6s 201ms/step - loss: 3.8690 - val_loss: 4.0301 - lr: 1.5625e-05\n",
      "Epoch 45/80\n",
      "32/32 [==============================] - ETA: 0s - loss: 4.0856\n",
      "Epoch 00045: val_loss did not improve from 3.52435\n",
      "\n",
      "Epoch 00045: ReduceLROnPlateau reducing learning rate to 7.812500371073838e-06.\n",
      "32/32 [==============================] - 7s 206ms/step - loss: 4.0856 - val_loss: 4.7581 - lr: 1.5625e-05\n",
      "Epoch 46/80\n",
      "32/32 [==============================] - ETA: 0s - loss: 4.9722\n",
      "Epoch 00046: val_loss did not improve from 3.52435\n",
      "32/32 [==============================] - 6s 202ms/step - loss: 4.9722 - val_loss: 3.9233 - lr: 7.8125e-06\n",
      "Epoch 47/80\n",
      "32/32 [==============================] - ETA: 0s - loss: 4.9864\n",
      "Epoch 00047: val_loss did not improve from 3.52435\n",
      "32/32 [==============================] - 6s 195ms/step - loss: 4.9864 - val_loss: 4.1285 - lr: 7.8125e-06\n",
      "Epoch 48/80\n",
      "32/32 [==============================] - ETA: 0s - loss: 4.5514\n",
      "Epoch 00048: val_loss did not improve from 3.52435\n",
      "32/32 [==============================] - 7s 203ms/step - loss: 4.5514 - val_loss: 4.7146 - lr: 7.8125e-06\n",
      "Epoch 49/80\n",
      "32/32 [==============================] - ETA: 0s - loss: 4.1255\n",
      "Epoch 00049: val_loss did not improve from 3.52435\n",
      "32/32 [==============================] - 6s 200ms/step - loss: 4.1255 - val_loss: 4.3113 - lr: 7.8125e-06\n",
      "Epoch 50/80\n",
      "32/32 [==============================] - ETA: 0s - loss: 4.6312\n",
      "Epoch 00050: val_loss did not improve from 3.52435\n",
      "\n",
      "Epoch 00050: ReduceLROnPlateau reducing learning rate to 3.906250185536919e-06.\n",
      "32/32 [==============================] - 6s 200ms/step - loss: 4.6312 - val_loss: 5.0394 - lr: 7.8125e-06\n",
      "Epoch 51/80\n",
      "32/32 [==============================] - ETA: 0s - loss: 3.9287\n",
      "Epoch 00051: val_loss did not improve from 3.52435\n",
      "32/32 [==============================] - 6s 196ms/step - loss: 3.9287 - val_loss: 4.9122 - lr: 3.9063e-06\n",
      "Epoch 52/80\n",
      "32/32 [==============================] - ETA: 0s - loss: 4.2631\n",
      "Epoch 00052: val_loss did not improve from 3.52435\n",
      "32/32 [==============================] - 6s 202ms/step - loss: 4.2631 - val_loss: 3.5486 - lr: 3.9063e-06\n",
      "Epoch 53/80\n",
      "32/32 [==============================] - ETA: 0s - loss: 4.2393\n",
      "Epoch 00053: val_loss did not improve from 3.52435\n",
      "32/32 [==============================] - 6s 197ms/step - loss: 4.2393 - val_loss: 4.3233 - lr: 3.9063e-06\n",
      "Epoch 54/80\n",
      "32/32 [==============================] - ETA: 0s - loss: 4.2011\n",
      "Epoch 00054: val_loss did not improve from 3.52435\n",
      "32/32 [==============================] - 7s 204ms/step - loss: 4.2011 - val_loss: 4.6150 - lr: 3.9063e-06\n",
      "Epoch 55/80\n",
      "32/32 [==============================] - ETA: 0s - loss: 4.5170\n",
      "Epoch 00055: val_loss did not improve from 3.52435\n",
      "\n",
      "Epoch 00055: ReduceLROnPlateau reducing learning rate to 1.9531250927684596e-06.\n",
      "32/32 [==============================] - 7s 209ms/step - loss: 4.5170 - val_loss: 4.6086 - lr: 3.9063e-06\n",
      "Epoch 56/80\n",
      "32/32 [==============================] - ETA: 0s - loss: 3.9248\n",
      "Epoch 00056: val_loss did not improve from 3.52435\n",
      "32/32 [==============================] - 6s 195ms/step - loss: 3.9248 - val_loss: 4.3495 - lr: 1.9531e-06\n",
      "Epoch 57/80\n",
      "32/32 [==============================] - ETA: 0s - loss: 4.7131\n",
      "Epoch 00057: val_loss did not improve from 3.52435\n",
      "32/32 [==============================] - 6s 196ms/step - loss: 4.7131 - val_loss: 3.9275 - lr: 1.9531e-06\n",
      "Epoch 58/80\n",
      "32/32 [==============================] - ETA: 0s - loss: 3.7418\n",
      "Epoch 00058: val_loss did not improve from 3.52435\n",
      "32/32 [==============================] - 6s 197ms/step - loss: 3.7418 - val_loss: 5.4972 - lr: 1.9531e-06\n",
      "Epoch 59/80\n",
      "32/32 [==============================] - ETA: 0s - loss: 4.4577\n",
      "Epoch 00059: val_loss did not improve from 3.52435\n",
      "32/32 [==============================] - 6s 196ms/step - loss: 4.4577 - val_loss: 4.5454 - lr: 1.9531e-06\n",
      "Epoch 60/80\n",
      "32/32 [==============================] - ETA: 0s - loss: 5.2383\n",
      "Epoch 00060: val_loss did not improve from 3.52435\n",
      "\n",
      "Epoch 00060: ReduceLROnPlateau reducing learning rate to 9.765625463842298e-07.\n",
      "32/32 [==============================] - 7s 204ms/step - loss: 5.2383 - val_loss: 5.5601 - lr: 1.9531e-06\n",
      "Epoch 61/80\n",
      "32/32 [==============================] - ETA: 0s - loss: 4.6217\n",
      "Epoch 00061: val_loss did not improve from 3.52435\n",
      "32/32 [==============================] - 6s 193ms/step - loss: 4.6217 - val_loss: 5.3856 - lr: 9.7656e-07\n",
      "Epoch 62/80\n",
      "32/32 [==============================] - ETA: 0s - loss: 4.3695\n",
      "Epoch 00062: val_loss did not improve from 3.52435\n",
      "32/32 [==============================] - 6s 196ms/step - loss: 4.3695 - val_loss: 5.1303 - lr: 9.7656e-07\n",
      "Epoch 63/80\n",
      "32/32 [==============================] - ETA: 0s - loss: 4.9962\n",
      "Epoch 00063: val_loss did not improve from 3.52435\n",
      "32/32 [==============================] - 6s 193ms/step - loss: 4.9962 - val_loss: 4.6424 - lr: 9.7656e-07\n",
      "Epoch 64/80\n",
      "32/32 [==============================] - ETA: 0s - loss: 3.7343\n",
      "Epoch 00064: val_loss did not improve from 3.52435\n",
      "32/32 [==============================] - 6s 199ms/step - loss: 3.7343 - val_loss: 4.5257 - lr: 9.7656e-07\n",
      "Epoch 65/80\n",
      "32/32 [==============================] - ETA: 0s - loss: 4.6829\n",
      "Epoch 00065: val_loss did not improve from 3.52435\n",
      "\n",
      "Epoch 00065: ReduceLROnPlateau reducing learning rate to 4.882812731921149e-07.\n",
      "32/32 [==============================] - 7s 205ms/step - loss: 4.6829 - val_loss: 4.3619 - lr: 9.7656e-07\n",
      "Epoch 66/80\n",
      "32/32 [==============================] - ETA: 0s - loss: 4.0910\n",
      "Epoch 00066: val_loss did not improve from 3.52435\n",
      "32/32 [==============================] - 6s 189ms/step - loss: 4.0910 - val_loss: 4.1079 - lr: 4.8828e-07\n"
     ]
    },
    {
     "name": "stdout",
     "output_type": "stream",
     "text": [
      "Epoch 67/80\n",
      "32/32 [==============================] - ETA: 0s - loss: 4.4169\n",
      "Epoch 00067: val_loss did not improve from 3.52435\n",
      "32/32 [==============================] - 6s 191ms/step - loss: 4.4169 - val_loss: 4.1186 - lr: 4.8828e-07\n",
      "Epoch 68/80\n",
      "32/32 [==============================] - ETA: 0s - loss: 4.5131\n",
      "Epoch 00068: val_loss did not improve from 3.52435\n",
      "32/32 [==============================] - 6s 197ms/step - loss: 4.5131 - val_loss: 5.1289 - lr: 4.8828e-07\n",
      "Epoch 69/80\n",
      "32/32 [==============================] - ETA: 0s - loss: 3.4835\n",
      "Epoch 00069: val_loss did not improve from 3.52435\n",
      "32/32 [==============================] - 6s 195ms/step - loss: 3.4835 - val_loss: 5.0908 - lr: 4.8828e-07\n",
      "Epoch 70/80\n",
      "32/32 [==============================] - ETA: 0s - loss: 3.7272\n",
      "Epoch 00070: val_loss did not improve from 3.52435\n",
      "\n",
      "Epoch 00070: ReduceLROnPlateau reducing learning rate to 2.4414063659605745e-07.\n",
      "32/32 [==============================] - 6s 196ms/step - loss: 3.7272 - val_loss: 3.7889 - lr: 4.8828e-07\n",
      "Epoch 71/80\n",
      "32/32 [==============================] - ETA: 0s - loss: 4.4409\n",
      "Epoch 00071: val_loss did not improve from 3.52435\n",
      "32/32 [==============================] - 6s 190ms/step - loss: 4.4409 - val_loss: 4.4149 - lr: 2.4414e-07\n",
      "Epoch 72/80\n",
      "32/32 [==============================] - ETA: 0s - loss: 4.6971\n",
      "Epoch 00072: val_loss did not improve from 3.52435\n",
      "32/32 [==============================] - 6s 197ms/step - loss: 4.6971 - val_loss: 3.7755 - lr: 2.4414e-07\n",
      "Epoch 73/80\n",
      "32/32 [==============================] - ETA: 0s - loss: 3.9262\n",
      "Epoch 00073: val_loss did not improve from 3.52435\n",
      "32/32 [==============================] - 6s 189ms/step - loss: 3.9262 - val_loss: 4.8009 - lr: 2.4414e-07\n",
      "Epoch 74/80\n",
      "32/32 [==============================] - ETA: 0s - loss: 3.7571\n",
      "Epoch 00074: val_loss did not improve from 3.52435\n",
      "32/32 [==============================] - 6s 194ms/step - loss: 3.7571 - val_loss: 4.8971 - lr: 2.4414e-07\n",
      "Epoch 75/80\n",
      "32/32 [==============================] - ETA: 0s - loss: 4.3283\n",
      "Epoch 00075: val_loss did not improve from 3.52435\n",
      "\n",
      "Epoch 00075: ReduceLROnPlateau reducing learning rate to 1.2207031829802872e-07.\n",
      "32/32 [==============================] - 6s 193ms/step - loss: 4.3283 - val_loss: 4.9401 - lr: 2.4414e-07\n",
      "Epoch 76/80\n",
      "32/32 [==============================] - ETA: 0s - loss: 3.9278\n",
      "Epoch 00076: val_loss did not improve from 3.52435\n",
      "32/32 [==============================] - 6s 196ms/step - loss: 3.9278 - val_loss: 4.2545 - lr: 1.2207e-07\n",
      "Epoch 77/80\n",
      "32/32 [==============================] - ETA: 0s - loss: 4.4382\n",
      "Epoch 00077: val_loss did not improve from 3.52435\n",
      "32/32 [==============================] - 6s 193ms/step - loss: 4.4382 - val_loss: 4.2890 - lr: 1.2207e-07\n",
      "Epoch 78/80\n",
      "32/32 [==============================] - ETA: 0s - loss: 4.0371\n",
      "Epoch 00078: val_loss did not improve from 3.52435\n",
      "32/32 [==============================] - 6s 202ms/step - loss: 4.0371 - val_loss: 5.0037 - lr: 1.2207e-07\n",
      "Epoch 79/80\n",
      "32/32 [==============================] - ETA: 0s - loss: 4.3480\n",
      "Epoch 00079: val_loss did not improve from 3.52435\n",
      "32/32 [==============================] - 6s 192ms/step - loss: 4.3480 - val_loss: 4.8745 - lr: 1.2207e-07\n",
      "Epoch 80/80\n",
      "32/32 [==============================] - ETA: 0s - loss: 3.8264\n",
      "Epoch 00080: val_loss did not improve from 3.52435\n",
      "\n",
      "Epoch 00080: ReduceLROnPlateau reducing learning rate to 6.103515914901436e-08.\n",
      "32/32 [==============================] - 6s 188ms/step - loss: 3.8264 - val_loss: 4.4847 - lr: 1.2207e-07\n",
      "Training Complete!!!\n"
     ]
    }
   ],
   "source": [
    "P = np.array(P)\n",
    "subs = []\n",
    "folds_history = []\n",
    "\n",
    "\"\"\"\n",
    "er = tf.keras.callbacks.EarlyStopping(monitor=\"val_loss\",min_delta=1e-3,patience=15,verbose=1,mode=\"auto\",baseline=None,\n",
    "      restore_best_weights=True,) #Stop training when a monitored metric has stopped improving.\n",
    "\"\"\"\n",
    "\n",
    "cpt = tf.keras.callbacks.ModelCheckpoint(filepath=f'{MODEL_CLASS}_{EPOCHS}_epochs.h5',monitor='val_loss',verbose=1, \n",
    "    save_best_only=SAVE_BEST,mode='auto') #to save model or weights in a checkpoint file at lowest validation loss\n",
    "\n",
    "rlp = tf.keras.callbacks.ReduceLROnPlateau(monitor='val_loss',factor=0.5,patience=5, verbose=1, min_lr=1e-8) \n",
    "     #Reduce learning rate when a metric has stopped improving.\n",
    "     # if improvement stops, after 5 epochs learning rate will be reduced\n",
    "\n",
    "model = build_model(model_class=MODEL_CLASS)\n",
    "model.compile(optimizer=tf.keras.optimizers.Adam(learning_rate=LR), loss=\"mae\") \n",
    "history = model.fit(IGenerator(keys=P, a = A, tab = TAB, batch_size=BATCH_SIZE), \n",
    "                    steps_per_epoch = 32,\n",
    "                    validation_data=IGenerator(keys=P, a = A, tab = TAB, batch_size=BATCH_SIZE),\n",
    "                    validation_steps = 32, \n",
    "                    callbacks = [cpt, rlp], \n",
    "                    epochs=EPOCHS)\n",
    "folds_history.append(history.history)\n",
    "print('Training Complete!!!')"
   ]
  },
  {
   "cell_type": "markdown",
   "metadata": {},
   "source": [
    "# Save Model History "
   ]
  },
  {
   "cell_type": "code",
   "execution_count": 16,
   "metadata": {},
   "outputs": [],
   "source": [
    "# convert the history.history dict to a pandas DataFrame:     \n",
    "hist_df = pd.DataFrame(history.history) \n",
    "\n",
    "# save to json:  \n",
    "hist_json_file = 'EffNet_b0_history_80_epoch.json' \n",
    "with open(hist_json_file, mode='w') as f:\n",
    "    hist_df.to_json(f)\n",
    "\n",
    "# or save to csv: \n",
    "hist_csv_file = 'EffNet_b0_history_80_epoch.csv'\n",
    "with open(hist_csv_file, mode='w') as f:\n",
    "    hist_df.to_csv(f)"
   ]
  },
  {
   "cell_type": "markdown",
   "metadata": {},
   "source": [
    "# Visualize Training Results"
   ]
  },
  {
   "cell_type": "code",
   "execution_count": 17,
   "metadata": {},
   "outputs": [],
   "source": [
    "result_dir = 'C:/Users/Monir/Documents/CSE499/results_and_figures/EfficientNet/B0/'\n",
    "\n",
    "import tikzplotlib\n",
    "loss = history.history['loss']\n",
    "val_loss = history.history['val_loss']\n",
    "epochs_range = range(EPOCHS) "
   ]
  },
  {
   "cell_type": "code",
   "execution_count": 18,
   "metadata": {},
   "outputs": [
    {
     "data": {
      "image/png": "[encoded data removed]",
      "text/plain": [
       "<Figure size 432x288 with 1 Axes>"
      ]
     },
     "metadata": {
      "needs_background": "light"
     },
     "output_type": "display_data"
    }
   ],
   "source": [
    "plt.plot(epochs_range, loss, 'bo', label='Training Loss')\n",
    "plt.plot(epochs_range, val_loss, 'b', label='Validation Loss')\n",
    "plt.title('Training and Validation Loss')\n",
    "plt.xlabel('Epochs')\n",
    "plt.ylabel('Loss')\n",
    "plt.legend(loc='upper right')\n",
    "plt.savefig(result_dir + 'b0_80_epoch_loss.png')\n",
    "plt.savefig(result_dir + 'b0_80_epoch_loss.pdf', dpi=150)\n",
    "tikzplotlib.save(result_dir + 'b0_80_epoch_loss.tex')\n",
    "\n",
    "plt.show()"
   ]
  },
  {
   "cell_type": "code",
   "execution_count": 42,
   "metadata": {},
   "outputs": [],
   "source": [
    "def smooth_curve(points, factor=0.85):\n",
    "    smoothed_points = []\n",
    "    for point in points:\n",
    "        if smoothed_points:\n",
    "            previous = smoothed_points[-1]\n",
    "            smoothed_points.append(previous * factor + point * (1 - factor))\n",
    "        else:\n",
    "            smoothed_points.append(point)\n",
    "    return smoothed_points"
   ]
  },
  {
   "cell_type": "code",
   "execution_count": 43,
   "metadata": {
    "scrolled": true
   },
   "outputs": [
    {
     "data": {
      "image/png": "[encoded data removed]",
      "text/plain": [
       "<Figure size 432x288 with 1 Axes>"
      ]
     },
     "metadata": {
      "needs_background": "light"
     },
     "output_type": "display_data"
    }
   ],
   "source": [
    "epochs_range = range(20,EPOCHS)\n",
    "plt.plot(epochs_range,\n",
    "         smooth_curve(loss[20:]), 'bo', label='Training loss')\n",
    "plt.plot(epochs_range,\n",
    "         smooth_curve(val_loss[20:]), 'b', label='Validation loss')\n",
    "plt.title('Training and validation loss')\n",
    "plt.xlabel('Epochs')\n",
    "plt.ylabel('Loss')\n",
    "plt.legend()\n",
    "\n",
    "\n",
    "plt.savefig(result_dir + 'b0_80_epoch_loss_smooth.png')\n",
    "plt.savefig(result_dir + 'b0_80_epoch_loss_smooth.pdf', dpi=150)\n",
    "tikzplotlib.save(result_dir + 'b0_80_epoch_loss_smooth.tex')\n",
    "\n",
    "plt.show()"
   ]
  },
  {
   "cell_type": "code",
   "execution_count": null,
   "metadata": {},
   "outputs": [],
   "source": []
  }
 ],
 "metadata": {
  "kernelspec": {
   "display_name": "Python 3",
   "language": "python",
   "name": "python3"
  },
  "language_info": {
   "codemirror_mode": {
    "name": "ipython",
    "version": 3
   },
   "file_extension": ".py",
   "mimetype": "text/x-python",
   "name": "python",
   "nbconvert_exporter": "python",
   "pygments_lexer": "ipython3",
   "version": "3.6.12"
  }
 },
 "nbformat": 4,
 "nbformat_minor": 4
}
