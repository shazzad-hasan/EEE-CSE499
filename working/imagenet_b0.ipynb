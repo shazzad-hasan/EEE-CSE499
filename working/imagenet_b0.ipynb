{
 "cells": [
  {
   "cell_type": "markdown",
   "metadata": {},
   "source": [
    "# EfficientNet"
   ]
  },
  {
   "cell_type": "code",
   "execution_count": 1,
   "metadata": {},
   "outputs": [],
   "source": [
    "import os\n",
    "import cv2\n",
    "import pydicom\n",
    "import tikzplotlib\n",
    "import numpy as np\n",
    "import pandas as pd\n",
    "import seaborn as sns\n",
    "import tensorflow as tf\n",
    "import matplotlib.pyplot as plt\n",
    "import efficientnet.tfkeras as efn\n",
    "import tensorflow.keras.layers as L\n",
    "import tensorflow.keras.models as M\n",
    "import tensorflow.keras.backend as K\n",
    "\n",
    "from tqdm.notebook import tqdm\n",
    "from tensorflow.keras import Model\n",
    "from tensorflow.keras.utils import Sequence\n",
    "from sklearn.model_selection import train_test_split \n",
    "from sklearn.model_selection import GroupKFold, KFold, StratifiedKFold\n",
    "from tensorflow.keras.layers import (\n",
    "    Dense, Dropout, Activation, Flatten, Input, BatchNormalization, GlobalAveragePooling2D, GaussianNoise, \n",
    "    Add, Conv2D, AveragePooling2D, LeakyReLU, Concatenate \n",
    ")"
   ]
  },
  {
   "cell_type": "markdown",
   "metadata": {},
   "source": [
    "# Load and Transform Data"
   ]
  },
  {
   "cell_type": "code",
   "execution_count": 2,
   "metadata": {},
   "outputs": [],
   "source": [
    "train = pd.read_csv('D:/CSE499/osic-pulmonary-fibrosis-progression/train.csv')"
   ]
  },
  {
   "cell_type": "code",
   "execution_count": 3,
   "metadata": {},
   "outputs": [
    {
     "data": {
      "text/html": [
       "<div>\n",
       "<style scoped>\n",
       "    .dataframe tbody tr th:only-of-type {\n",
       "        vertical-align: middle;\n",
       "    }\n",
       "\n",
       "    .dataframe tbody tr th {\n",
       "        vertical-align: top;\n",
       "    }\n",
       "\n",
       "    .dataframe thead th {\n",
       "        text-align: right;\n",
       "    }\n",
       "</style>\n",
       "<table border=\"1\" class=\"dataframe\">\n",
       "  <thead>\n",
       "    <tr style=\"text-align: right;\">\n",
       "      <th></th>\n",
       "      <th>Patient</th>\n",
       "      <th>Weeks</th>\n",
       "      <th>FVC</th>\n",
       "      <th>Percent</th>\n",
       "      <th>Age</th>\n",
       "      <th>Sex</th>\n",
       "      <th>SmokingStatus</th>\n",
       "    </tr>\n",
       "  </thead>\n",
       "  <tbody>\n",
       "    <tr>\n",
       "      <th>0</th>\n",
       "      <td>ID00007637202177411956430</td>\n",
       "      <td>-4</td>\n",
       "      <td>2315</td>\n",
       "      <td>58.253649</td>\n",
       "      <td>79</td>\n",
       "      <td>Male</td>\n",
       "      <td>Ex-smoker</td>\n",
       "    </tr>\n",
       "    <tr>\n",
       "      <th>1</th>\n",
       "      <td>ID00007637202177411956430</td>\n",
       "      <td>5</td>\n",
       "      <td>2214</td>\n",
       "      <td>55.712129</td>\n",
       "      <td>79</td>\n",
       "      <td>Male</td>\n",
       "      <td>Ex-smoker</td>\n",
       "    </tr>\n",
       "    <tr>\n",
       "      <th>2</th>\n",
       "      <td>ID00007637202177411956430</td>\n",
       "      <td>7</td>\n",
       "      <td>2061</td>\n",
       "      <td>51.862104</td>\n",
       "      <td>79</td>\n",
       "      <td>Male</td>\n",
       "      <td>Ex-smoker</td>\n",
       "    </tr>\n",
       "    <tr>\n",
       "      <th>3</th>\n",
       "      <td>ID00007637202177411956430</td>\n",
       "      <td>9</td>\n",
       "      <td>2144</td>\n",
       "      <td>53.950679</td>\n",
       "      <td>79</td>\n",
       "      <td>Male</td>\n",
       "      <td>Ex-smoker</td>\n",
       "    </tr>\n",
       "    <tr>\n",
       "      <th>4</th>\n",
       "      <td>ID00007637202177411956430</td>\n",
       "      <td>11</td>\n",
       "      <td>2069</td>\n",
       "      <td>52.063412</td>\n",
       "      <td>79</td>\n",
       "      <td>Male</td>\n",
       "      <td>Ex-smoker</td>\n",
       "    </tr>\n",
       "  </tbody>\n",
       "</table>\n",
       "</div>"
      ],
      "text/plain": [
       "                     Patient  Weeks   FVC    Percent  Age   Sex SmokingStatus\n",
       "0  ID00007637202177411956430     -4  2315  58.253649   79  Male     Ex-smoker\n",
       "1  ID00007637202177411956430      5  2214  55.712129   79  Male     Ex-smoker\n",
       "2  ID00007637202177411956430      7  2061  51.862104   79  Male     Ex-smoker\n",
       "3  ID00007637202177411956430      9  2144  53.950679   79  Male     Ex-smoker\n",
       "4  ID00007637202177411956430     11  2069  52.063412   79  Male     Ex-smoker"
      ]
     },
     "execution_count": 3,
     "metadata": {},
     "output_type": "execute_result"
    }
   ],
   "source": [
    "train.head()"
   ]
  },
  {
   "cell_type": "code",
   "execution_count": 4,
   "metadata": {},
   "outputs": [
    {
     "data": {
      "text/plain": [
       "153.145377828922"
      ]
     },
     "execution_count": 4,
     "metadata": {},
     "output_type": "execute_result"
    }
   ],
   "source": [
    "train['Percent'].max()"
   ]
  },
  {
   "cell_type": "code",
   "execution_count": 5,
   "metadata": {},
   "outputs": [
    {
     "data": {
      "text/plain": [
       "28.877576671694303"
      ]
     },
     "execution_count": 5,
     "metadata": {},
     "output_type": "execute_result"
    }
   ],
   "source": [
    "train['Percent'].min()"
   ]
  },
  {
   "cell_type": "code",
   "execution_count": 6,
   "metadata": {},
   "outputs": [
    {
     "data": {
      "text/plain": [
       "array(['Ex-smoker', 'Never smoked', 'Currently smokes'], dtype=object)"
      ]
     },
     "execution_count": 6,
     "metadata": {},
     "output_type": "execute_result"
    }
   ],
   "source": [
    "train.SmokingStatus.unique()"
   ]
  },
  {
   "cell_type": "code",
   "execution_count": 7,
   "metadata": {},
   "outputs": [],
   "source": [
    "def get_tab(df):\n",
    "    \" return an array which contains each patient normalized age, sex and smoking status\"\n",
    "    vector = [(df.Age.values[0] - 30) / 30] \n",
    "    \n",
    "    if df.Sex.values[0].lower() == 'male':\n",
    "       vector.append(0)\n",
    "    else:\n",
    "       vector.append(1)\n",
    "    \n",
    "    if df.SmokingStatus.values[0] == 'Never smoked':\n",
    "        vector.extend([0,0])\n",
    "    elif df.SmokingStatus.values[0] == 'Ex-smoker':\n",
    "        vector.extend([1,1])\n",
    "    elif df.SmokingStatus.values[0] == 'Currently smokes':\n",
    "        vector.extend([0,1])\n",
    "    else:\n",
    "        vector.extend([1,0])\n",
    "    return np.array(vector)"
   ]
  },
  {
   "cell_type": "code",
   "execution_count": 8,
   "metadata": {},
   "outputs": [
    {
     "data": {
      "application/vnd.jupyter.widget-view+json": {
       "model_id": "2291e40cb80a4e359e793279b9a077af",
       "version_major": 2,
       "version_minor": 0
      },
      "text/plain": [
       "HBox(children=(HTML(value=''), FloatProgress(value=1.0, bar_style='info', layout=Layout(width='20px'), max=1.0…"
      ]
     },
     "metadata": {},
     "output_type": "display_data"
    },
    {
     "name": "stderr",
     "output_type": "stream",
     "text": [
      "C:\\Users\\Monir\\anaconda3\\envs\\rabbi36\\lib\\site-packages\\ipykernel_launcher.py:9: FutureWarning: `rcond` parameter will change to the default of machine precision times ``max(M, N)`` where M and N are the input matrix dimensions.\n",
      "To use the future default and silence this warning we advise to pass `rcond=None`, to keep using the old, explicitly pass `rcond=-1`.\n",
      "  if __name__ == '__main__':\n"
     ]
    },
    {
     "name": "stdout",
     "output_type": "stream",
     "text": [
      "\n"
     ]
    }
   ],
   "source": [
    "A = {} \n",
    "TAB = {} \n",
    "P = [] \n",
    "for i, p in tqdm(enumerate(train.Patient.unique())): # i index, p patient id\n",
    "    sub = train.loc[train.Patient == p, :] # find all data (weeks, FVC, Percent, Age, Sex, SmokingStatus) of a unique patient\n",
    "    fvc = sub.FVC.values # fvc values of the patient during the follow-up\n",
    "    weeks = sub.Weeks.values # follow-up weeks\n",
    "    c = np.vstack([weeks, np.ones(len(weeks))]).T # create an array by the follow-up weeks of shape(len(weeks),2)\n",
    "    a, b = np.linalg.lstsq(c, fvc)[0] # least-square sol, a=gradient matrix, b=right hand matrix \n",
    "    \n",
    "    A[p] = a\n",
    "    TAB[p] = get_tab(sub)\n",
    "    P.append(p)"
   ]
  },
  {
   "cell_type": "code",
   "execution_count": 9,
   "metadata": {},
   "outputs": [],
   "source": [
    "def get_img(path):\n",
    "    \" read DICOM dataset and return resize images of size (512,512,3)\"\n",
    "    d = pydicom.dcmread(path) # read and parse the CT scan images (in DICOM format)\n",
    "    resized_image = cv2.resize((d.pixel_array - d.RescaleIntercept) / (d.RescaleSlope * 1000), (512,512))\n",
    "    resized_image = np.stack((resized_image,)*3, axis = -1)\n",
    "    return resized_image"
   ]
  },
  {
   "cell_type": "code",
   "execution_count": 10,
   "metadata": {},
   "outputs": [],
   "source": [
    "\n",
    "\n",
    "class IGenerator(Sequence):\n",
    "    BAD_ID = ['ID00011637202177653955184', 'ID00052637202186188008618']\n",
    "    def __init__(self, keys, a, tab, batch_size):\n",
    "        \"key=patient, a=gradient matrix, tab=a particular patient's data\"\n",
    "        self.keys = [k for k in keys if k not in self.BAD_ID]\n",
    "        self.a = a\n",
    "        self.tab = tab\n",
    "        self.batch_size = batch_size\n",
    "        \n",
    "        self.train_data = {}\n",
    "        for p in train.Patient.values:\n",
    "            self.train_data[p] = os.listdir(f'D:/CSE499/osic-pulmonary-fibrosis-progression/train/{p}/')\n",
    "    \n",
    "    def __len__(self):\n",
    "        return 1000\n",
    "    \n",
    "    def __getitem__(self, idx):\n",
    "        x = []\n",
    "        a, tab = [], [] \n",
    "        keys = np.random.choice(self.keys, size = self.batch_size) # randomly chooses n=batch_size number of patients\n",
    "        for k in keys:\n",
    "            try:\n",
    "                i = np.random.choice(self.train_data[k], size=1)[0] # chooses some randomly images for kth patient\n",
    "                img = get_img(f'D:/CSE499/osic-pulmonary-fibrosis-progression/train/{k}/{i}') # resizes ith image of kth patient\n",
    "                x.append(img) # append kth patient's image data in the list x\n",
    "                a.append(self.a[k]) # append kth patient's gradinet in the list a\n",
    "                tab.append(self.tab[k]) # append kth patient's tabular data in the tab list\n",
    "            except:\n",
    "                print(k, i)\n",
    "       \n",
    "        x,a,tab = np.array(x), np.array(a), np.array(tab) # convert list to array\n",
    "        #x = np.expand_dims(x, axis=-1) \n",
    "        return [x, tab] , a"
   ]
  },
  {
   "cell_type": "markdown",
   "metadata": {},
   "source": [
    "## Build the Model"
   ]
  },
  {
   "cell_type": "code",
   "execution_count": 11,
   "metadata": {},
   "outputs": [],
   "source": [
    "def get_model(model, shape):\n",
    "    models_dict = {\n",
    "        'b0': efn.EfficientNetB0(input_shape=shape,weights='imagenet',include_top=False),\n",
    "        'b1': efn.EfficientNetB1(input_shape=shape,weights=None,include_top=False),\n",
    "        'b2': efn.EfficientNetB2(input_shape=shape,weights=None,include_top=False),\n",
    "        'b3': efn.EfficientNetB3(input_shape=shape,weights=None,include_top=False),\n",
    "        'b4': efn.EfficientNetB4(input_shape=shape,weights=None,include_top=False),\n",
    "        'b5': efn.EfficientNetB5(input_shape=shape,weights=None,include_top=False),\n",
    "        'b6': efn.EfficientNetB6(input_shape=shape,weights=None,include_top=False),\n",
    "        'b7': efn.EfficientNetB7(input_shape=shape,weights=None,include_top=False),\n",
    "        #'RNet50': resnet50.ResNet50(input_shape=shape,weights=None,include_top=False),\n",
    "        #'V16': vgg16.VGG16(input_shape=shape,weights=None,include_top=False)\n",
    "    }\n",
    "    return models_dict[model]\n",
    "\n",
    "def build_model(shape=(512, 512, 3), model_class=None):\n",
    "    inp = Input(shape=shape)\n",
    "    base = get_model(model_class, shape)\n",
    "    x = base(inp)\n",
    "    x.trainable = False\n",
    "    x = GlobalAveragePooling2D()(x)\n",
    "    inp2 = Input(shape=(4,)) # indicates that the expected input will be batches of 4-dimensional vectors\n",
    "    x2 = GaussianNoise(0.2)(inp2) # to mitigate overfitting\n",
    "    x = Concatenate()([x, x2]) \n",
    "    x = Dropout(0.5)(x) \n",
    "    x = Dense(1)(x)\n",
    "    model = Model([inp, inp2] , x)\n",
    "    return model"
   ]
  },
  {
   "cell_type": "code",
   "execution_count": 12,
   "metadata": {
    "scrolled": true
   },
   "outputs": [
    {
     "name": "stdout",
     "output_type": "stream",
     "text": [
      "Model: \"model\"\n",
      "__________________________________________________________________________________________________\n",
      "Layer (type)                    Output Shape         Param #     Connected to                     \n",
      "==================================================================================================\n",
      "input_1 (InputLayer)            [(None, 512, 512, 3) 0                                            \n",
      "__________________________________________________________________________________________________\n",
      "efficientnet-b0 (Model)         (None, 16, 16, 1280) 4049564     input_1[0][0]                    \n",
      "__________________________________________________________________________________________________\n",
      "input_10 (InputLayer)           [(None, 4)]          0                                            \n",
      "__________________________________________________________________________________________________\n",
      "global_average_pooling2d (Globa (None, 1280)         0           efficientnet-b0[1][0]            \n",
      "__________________________________________________________________________________________________\n",
      "gaussian_noise (GaussianNoise)  (None, 4)            0           input_10[0][0]                   \n",
      "__________________________________________________________________________________________________\n",
      "concatenate (Concatenate)       (None, 1284)         0           global_average_pooling2d[0][0]   \n",
      "                                                                 gaussian_noise[0][0]             \n",
      "__________________________________________________________________________________________________\n",
      "dropout (Dropout)               (None, 1284)         0           concatenate[0][0]                \n",
      "__________________________________________________________________________________________________\n",
      "dense (Dense)                   (None, 1)            1285        dropout[0][0]                    \n",
      "==================================================================================================\n",
      "Total params: 4,050,849\n",
      "Trainable params: 4,008,833\n",
      "Non-trainable params: 42,016\n",
      "__________________________________________________________________________________________________\n"
     ]
    }
   ],
   "source": [
    "MODEL_CLASS = 'b0'\n",
    "base_model = build_model(shape=(512, 512, 3), model_class=MODEL_CLASS)\n",
    "base_model.summary()"
   ]
  },
  {
   "cell_type": "markdown",
   "metadata": {},
   "source": [
    "## Compile and Train the Model"
   ]
  },
  {
   "cell_type": "code",
   "execution_count": 13,
   "metadata": {},
   "outputs": [],
   "source": [
    "BATCH_SIZE = 4\n",
    "EPOCHS = 80\n",
    "LR = 0.001\n",
    "SAVE_BEST = True\n",
    "tr_p, vl_p = train_test_split(P, shuffle=True, train_size= 0.8) "
   ]
  },
  {
   "cell_type": "code",
   "execution_count": 14,
   "metadata": {},
   "outputs": [
    {
     "name": "stdout",
     "output_type": "stream",
     "text": [
      "Epoch 1/80\n",
      "32/32 [==============================] - ETA: 0s - loss: 4.7002\n",
      "Epoch 00001: val_loss improved from inf to 8.11156, saving model to b0_80_epochs.h5\n",
      "32/32 [==============================] - 15s 464ms/step - loss: 4.7002 - val_loss: 8.1116 - lr: 0.0010\n",
      "Epoch 2/80\n",
      "32/32 [==============================] - ETA: 0s - loss: 4.4511\n",
      "Epoch 00002: val_loss improved from 8.11156 to 5.01315, saving model to b0_80_epochs.h5\n",
      "32/32 [==============================] - 15s 473ms/step - loss: 4.4511 - val_loss: 5.0131 - lr: 0.0010\n",
      "Epoch 3/80\n",
      "32/32 [==============================] - ETA: 0s - loss: 3.6892\n",
      "Epoch 00003: val_loss improved from 5.01315 to 4.77192, saving model to b0_80_epochs.h5\n",
      "32/32 [==============================] - 13s 392ms/step - loss: 3.6892 - val_loss: 4.7719 - lr: 0.0010\n",
      "Epoch 4/80\n",
      "32/32 [==============================] - ETA: 0s - loss: 4.0632\n",
      "Epoch 00004: val_loss did not improve from 4.77192\n",
      "32/32 [==============================] - 10s 302ms/step - loss: 4.0632 - val_loss: 9.5971 - lr: 0.0010\n",
      "Epoch 5/80\n",
      "32/32 [==============================] - ETA: 0s - loss: 3.9765\n",
      "Epoch 00005: val_loss did not improve from 4.77192\n",
      "32/32 [==============================] - 9s 274ms/step - loss: 3.9765 - val_loss: 5.3390 - lr: 0.0010\n",
      "Epoch 6/80\n",
      "32/32 [==============================] - ETA: 0s - loss: 5.1194\n",
      "Epoch 00006: val_loss did not improve from 4.77192\n",
      "32/32 [==============================] - 9s 271ms/step - loss: 5.1194 - val_loss: 5.6469 - lr: 0.0010\n",
      "Epoch 7/80\n",
      "32/32 [==============================] - ETA: 0s - loss: 4.6145\n",
      "Epoch 00007: val_loss improved from 4.77192 to 4.76940, saving model to b0_80_epochs.h5\n",
      "32/32 [==============================] - 13s 417ms/step - loss: 4.6145 - val_loss: 4.7694 - lr: 0.0010\n",
      "Epoch 8/80\n",
      "32/32 [==============================] - ETA: 0s - loss: 4.2859\n",
      "Epoch 00008: val_loss did not improve from 4.76940\n",
      "32/32 [==============================] - 9s 271ms/step - loss: 4.2859 - val_loss: 6.1545 - lr: 0.0010\n",
      "Epoch 9/80\n",
      "32/32 [==============================] - ETA: 0s - loss: 3.8820\n",
      "Epoch 00009: val_loss improved from 4.76940 to 4.62536, saving model to b0_80_epochs.h5\n",
      "32/32 [==============================] - 12s 379ms/step - loss: 3.8820 - val_loss: 4.6254 - lr: 0.0010\n",
      "Epoch 10/80\n",
      "32/32 [==============================] - ETA: 0s - loss: 4.0742\n",
      "Epoch 00010: val_loss did not improve from 4.62536\n",
      "32/32 [==============================] - 9s 275ms/step - loss: 4.0742 - val_loss: 4.6715 - lr: 0.0010\n",
      "Epoch 11/80\n",
      "32/32 [==============================] - ETA: 0s - loss: 5.0411\n",
      "Epoch 00011: val_loss improved from 4.62536 to 4.04601, saving model to b0_80_epochs.h5\n",
      "32/32 [==============================] - 12s 389ms/step - loss: 5.0411 - val_loss: 4.0460 - lr: 0.0010\n",
      "Epoch 12/80\n",
      "32/32 [==============================] - ETA: 0s - loss: 4.3864\n",
      "Epoch 00012: val_loss did not improve from 4.04601\n",
      "32/32 [==============================] - 8s 255ms/step - loss: 4.3864 - val_loss: 4.5060 - lr: 0.0010\n",
      "Epoch 13/80\n",
      "32/32 [==============================] - ETA: 0s - loss: 4.5668\n",
      "Epoch 00013: val_loss did not improve from 4.04601\n",
      "32/32 [==============================] - 8s 257ms/step - loss: 4.5668 - val_loss: 4.4521 - lr: 0.0010\n",
      "Epoch 14/80\n",
      "32/32 [==============================] - ETA: 0s - loss: 4.1392\n",
      "Epoch 00014: val_loss did not improve from 4.04601\n",
      "32/32 [==============================] - 8s 257ms/step - loss: 4.1392 - val_loss: 4.4112 - lr: 0.0010\n",
      "Epoch 15/80\n",
      "32/32 [==============================] - ETA: 0s - loss: 3.4869\n",
      "Epoch 00015: val_loss did not improve from 4.04601\n",
      "32/32 [==============================] - 8s 261ms/step - loss: 3.4869 - val_loss: 4.4123 - lr: 0.0010\n",
      "Epoch 16/80\n",
      "32/32 [==============================] - ETA: 0s - loss: 3.9481\n",
      "Epoch 00016: val_loss improved from 4.04601 to 3.98040, saving model to b0_80_epochs.h5\n",
      "32/32 [==============================] - 13s 398ms/step - loss: 3.9481 - val_loss: 3.9804 - lr: 0.0010\n",
      "Epoch 17/80\n",
      "32/32 [==============================] - ETA: 0s - loss: 4.0240\n",
      "Epoch 00017: val_loss improved from 3.98040 to 3.92481, saving model to b0_80_epochs.h5\n",
      "32/32 [==============================] - 12s 360ms/step - loss: 4.0240 - val_loss: 3.9248 - lr: 0.0010\n",
      "Epoch 18/80\n",
      "32/32 [==============================] - ETA: 0s - loss: 4.6124\n",
      "Epoch 00018: val_loss did not improve from 3.92481\n",
      "32/32 [==============================] - 8s 261ms/step - loss: 4.6124 - val_loss: 4.3722 - lr: 0.0010\n",
      "Epoch 19/80\n",
      "32/32 [==============================] - ETA: 0s - loss: 3.7701\n",
      "Epoch 00019: val_loss did not improve from 3.92481\n",
      "32/32 [==============================] - 8s 239ms/step - loss: 3.7701 - val_loss: 4.8040 - lr: 0.0010\n",
      "Epoch 20/80\n",
      "32/32 [==============================] - ETA: 0s - loss: 4.2176\n",
      "Epoch 00020: val_loss did not improve from 3.92481\n",
      "32/32 [==============================] - 8s 251ms/step - loss: 4.2176 - val_loss: 4.3279 - lr: 0.0010\n",
      "Epoch 21/80\n",
      "32/32 [==============================] - ETA: 0s - loss: 4.3357\n",
      "Epoch 00021: val_loss did not improve from 3.92481\n",
      "32/32 [==============================] - 8s 237ms/step - loss: 4.3357 - val_loss: 5.1778 - lr: 0.0010\n",
      "Epoch 22/80\n",
      "32/32 [==============================] - ETA: 0s - loss: 4.0801\n",
      "Epoch 00022: val_loss did not improve from 3.92481\n",
      "\n",
      "Epoch 00022: ReduceLROnPlateau reducing learning rate to 0.0005000000237487257.\n",
      "32/32 [==============================] - 8s 246ms/step - loss: 4.0801 - val_loss: 6.6362 - lr: 0.0010\n",
      "Epoch 23/80\n",
      "32/32 [==============================] - ETA: 0s - loss: 4.3071\n",
      "Epoch 00023: val_loss did not improve from 3.92481\n",
      "32/32 [==============================] - 8s 252ms/step - loss: 4.3071 - val_loss: 4.6815 - lr: 5.0000e-04\n",
      "Epoch 24/80\n",
      "32/32 [==============================] - ETA: 0s - loss: 3.7330\n",
      "Epoch 00024: val_loss improved from 3.92481 to 3.85627, saving model to b0_80_epochs.h5\n",
      "32/32 [==============================] - 12s 360ms/step - loss: 3.7330 - val_loss: 3.8563 - lr: 5.0000e-04\n",
      "Epoch 25/80\n",
      "32/32 [==============================] - ETA: 0s - loss: 4.5704\n",
      "Epoch 00025: val_loss improved from 3.85627 to 3.61455, saving model to b0_80_epochs.h5\n",
      "32/32 [==============================] - 13s 400ms/step - loss: 4.5704 - val_loss: 3.6146 - lr: 5.0000e-04\n",
      "Epoch 26/80\n",
      "32/32 [==============================] - ETA: 0s - loss: 3.7674\n",
      "Epoch 00026: val_loss did not improve from 3.61455\n",
      "32/32 [==============================] - 8s 258ms/step - loss: 3.7674 - val_loss: 4.4908 - lr: 5.0000e-04\n",
      "Epoch 27/80\n",
      "32/32 [==============================] - ETA: 0s - loss: 3.9323\n",
      "Epoch 00027: val_loss did not improve from 3.61455\n",
      "32/32 [==============================] - 8s 239ms/step - loss: 3.9323 - val_loss: 4.4895 - lr: 5.0000e-04\n",
      "Epoch 28/80\n",
      "32/32 [==============================] - ETA: 0s - loss: 4.5944\n",
      "Epoch 00028: val_loss did not improve from 3.61455\n",
      "32/32 [==============================] - 8s 238ms/step - loss: 4.5944 - val_loss: 4.4555 - lr: 5.0000e-04\n",
      "Epoch 29/80\n",
      "32/32 [==============================] - ETA: 0s - loss: 5.2458\n",
      "Epoch 00029: val_loss did not improve from 3.61455\n",
      "32/32 [==============================] - 8s 240ms/step - loss: 5.2458 - val_loss: 4.4432 - lr: 5.0000e-04\n",
      "Epoch 30/80\n",
      "32/32 [==============================] - ETA: 0s - loss: 4.6771\n",
      "Epoch 00030: val_loss did not improve from 3.61455\n",
      "\n",
      "Epoch 00030: ReduceLROnPlateau reducing learning rate to 0.0002500000118743628.\n",
      "32/32 [==============================] - 8s 236ms/step - loss: 4.6771 - val_loss: 4.4197 - lr: 5.0000e-04\n",
      "Epoch 31/80\n",
      "32/32 [==============================] - ETA: 0s - loss: 5.5041\n",
      "Epoch 00031: val_loss did not improve from 3.61455\n",
      "32/32 [==============================] - 8s 243ms/step - loss: 5.5041 - val_loss: 3.9746 - lr: 2.5000e-04\n",
      "Epoch 32/80\n",
      "32/32 [==============================] - ETA: 0s - loss: 4.7482\n",
      "Epoch 00032: val_loss did not improve from 3.61455\n",
      "32/32 [==============================] - 8s 236ms/step - loss: 4.7482 - val_loss: 4.3766 - lr: 2.5000e-04\n",
      "Epoch 33/80\n",
      "32/32 [==============================] - ETA: 0s - loss: 4.5200\n",
      "Epoch 00033: val_loss did not improve from 3.61455\n",
      "32/32 [==============================] - 8s 236ms/step - loss: 4.5200 - val_loss: 4.5714 - lr: 2.5000e-04\n",
      "Epoch 34/80\n"
     ]
    },
    {
     "name": "stdout",
     "output_type": "stream",
     "text": [
      "32/32 [==============================] - ETA: 0s - loss: 4.2713\n",
      "Epoch 00034: val_loss did not improve from 3.61455\n",
      "32/32 [==============================] - 7s 230ms/step - loss: 4.2713 - val_loss: 4.7643 - lr: 2.5000e-04\n",
      "Epoch 35/80\n",
      "32/32 [==============================] - ETA: 0s - loss: 4.0308\n",
      "Epoch 00035: val_loss did not improve from 3.61455\n",
      "\n",
      "Epoch 00035: ReduceLROnPlateau reducing learning rate to 0.0001250000059371814.\n",
      "32/32 [==============================] - 8s 236ms/step - loss: 4.0308 - val_loss: 4.4435 - lr: 2.5000e-04\n",
      "Epoch 36/80\n",
      "32/32 [==============================] - ETA: 0s - loss: 4.2902\n",
      "Epoch 00036: val_loss did not improve from 3.61455\n",
      "32/32 [==============================] - 7s 232ms/step - loss: 4.2902 - val_loss: 4.1502 - lr: 1.2500e-04\n",
      "Epoch 37/80\n",
      "32/32 [==============================] - ETA: 0s - loss: 4.1927\n",
      "Epoch 00037: val_loss did not improve from 3.61455\n",
      "32/32 [==============================] - 7s 226ms/step - loss: 4.1927 - val_loss: 3.7949 - lr: 1.2500e-04\n",
      "Epoch 38/80\n",
      "32/32 [==============================] - ETA: 0s - loss: 3.9295\n",
      "Epoch 00038: val_loss did not improve from 3.61455\n",
      "32/32 [==============================] - 8s 237ms/step - loss: 3.9295 - val_loss: 3.7603 - lr: 1.2500e-04\n",
      "Epoch 39/80\n",
      "32/32 [==============================] - ETA: 0s - loss: 4.0577\n",
      "Epoch 00039: val_loss did not improve from 3.61455\n",
      "32/32 [==============================] - 8s 243ms/step - loss: 4.0577 - val_loss: 3.8740 - lr: 1.2500e-04\n",
      "Epoch 40/80\n",
      "32/32 [==============================] - ETA: 0s - loss: 4.5586\n",
      "Epoch 00040: val_loss did not improve from 3.61455\n",
      "\n",
      "Epoch 00040: ReduceLROnPlateau reducing learning rate to 6.25000029685907e-05.\n",
      "32/32 [==============================] - 7s 234ms/step - loss: 4.5586 - val_loss: 4.6080 - lr: 1.2500e-04\n",
      "Epoch 41/80\n",
      "32/32 [==============================] - ETA: 0s - loss: 4.0289\n",
      "Epoch 00041: val_loss did not improve from 3.61455\n",
      "32/32 [==============================] - 7s 223ms/step - loss: 4.0289 - val_loss: 4.0995 - lr: 6.2500e-05\n",
      "Epoch 42/80\n",
      "32/32 [==============================] - ETA: 0s - loss: 4.0368\n",
      "Epoch 00042: val_loss did not improve from 3.61455\n",
      "32/32 [==============================] - 8s 240ms/step - loss: 4.0368 - val_loss: 3.8771 - lr: 6.2500e-05\n",
      "Epoch 43/80\n",
      "32/32 [==============================] - ETA: 0s - loss: 4.8738\n",
      "Epoch 00043: val_loss did not improve from 3.61455\n",
      "32/32 [==============================] - 7s 233ms/step - loss: 4.8738 - val_loss: 3.6805 - lr: 6.2500e-05\n",
      "Epoch 44/80\n",
      "32/32 [==============================] - ETA: 0s - loss: 4.2532\n",
      "Epoch 00044: val_loss did not improve from 3.61455\n",
      "32/32 [==============================] - 7s 229ms/step - loss: 4.2532 - val_loss: 4.8936 - lr: 6.2500e-05\n",
      "Epoch 45/80\n",
      "32/32 [==============================] - ETA: 0s - loss: 4.2913\n",
      "Epoch 00045: val_loss did not improve from 3.61455\n",
      "\n",
      "Epoch 00045: ReduceLROnPlateau reducing learning rate to 3.125000148429535e-05.\n",
      "32/32 [==============================] - 7s 233ms/step - loss: 4.2913 - val_loss: 4.3695 - lr: 6.2500e-05\n",
      "Epoch 46/80\n",
      "32/32 [==============================] - ETA: 0s - loss: 3.7862\n",
      "Epoch 00046: val_loss did not improve from 3.61455\n",
      "32/32 [==============================] - 8s 236ms/step - loss: 3.7862 - val_loss: 4.2569 - lr: 3.1250e-05\n",
      "Epoch 47/80\n",
      "32/32 [==============================] - ETA: 0s - loss: 4.6759\n",
      "Epoch 00047: val_loss did not improve from 3.61455\n",
      "32/32 [==============================] - 7s 227ms/step - loss: 4.6759 - val_loss: 4.4213 - lr: 3.1250e-05\n",
      "Epoch 48/80\n",
      "32/32 [==============================] - ETA: 0s - loss: 3.9595\n",
      "Epoch 00048: val_loss did not improve from 3.61455\n",
      "32/32 [==============================] - 7s 228ms/step - loss: 3.9595 - val_loss: 5.1131 - lr: 3.1250e-05\n",
      "Epoch 49/80\n",
      "32/32 [==============================] - ETA: 0s - loss: 4.1787\n",
      "Epoch 00049: val_loss did not improve from 3.61455\n",
      "32/32 [==============================] - 8s 239ms/step - loss: 4.1787 - val_loss: 4.1621 - lr: 3.1250e-05\n",
      "Epoch 50/80\n",
      "32/32 [==============================] - ETA: 0s - loss: 3.7319\n",
      "Epoch 00050: val_loss did not improve from 3.61455\n",
      "\n",
      "Epoch 00050: ReduceLROnPlateau reducing learning rate to 1.5625000742147677e-05.\n",
      "32/32 [==============================] - 7s 234ms/step - loss: 3.7319 - val_loss: 4.8014 - lr: 3.1250e-05\n",
      "Epoch 51/80\n",
      "32/32 [==============================] - ETA: 0s - loss: 4.7393\n",
      "Epoch 00051: val_loss improved from 3.61455 to 3.20495, saving model to b0_80_epochs.h5\n",
      "32/32 [==============================] - 12s 377ms/step - loss: 4.7393 - val_loss: 3.2049 - lr: 1.5625e-05\n",
      "Epoch 52/80\n",
      "32/32 [==============================] - ETA: 0s - loss: 4.4561\n",
      "Epoch 00052: val_loss did not improve from 3.20495\n",
      "32/32 [==============================] - 8s 250ms/step - loss: 4.4561 - val_loss: 4.1278 - lr: 1.5625e-05\n",
      "Epoch 53/80\n",
      "32/32 [==============================] - ETA: 0s - loss: 4.2800\n",
      "Epoch 00053: val_loss did not improve from 3.20495\n",
      "32/32 [==============================] - 8s 236ms/step - loss: 4.2800 - val_loss: 4.5356 - lr: 1.5625e-05\n",
      "Epoch 54/80\n",
      "32/32 [==============================] - ETA: 0s - loss: 4.2202\n",
      "Epoch 00054: val_loss did not improve from 3.20495\n",
      "32/32 [==============================] - 7s 230ms/step - loss: 4.2202 - val_loss: 3.8839 - lr: 1.5625e-05\n",
      "Epoch 55/80\n",
      "32/32 [==============================] - ETA: 0s - loss: 3.5016\n",
      "Epoch 00055: val_loss did not improve from 3.20495\n",
      "32/32 [==============================] - 7s 223ms/step - loss: 3.5016 - val_loss: 4.4018 - lr: 1.5625e-05\n",
      "Epoch 56/80\n",
      "32/32 [==============================] - ETA: 0s - loss: 4.2435\n",
      "Epoch 00056: val_loss did not improve from 3.20495\n",
      "\n",
      "Epoch 00056: ReduceLROnPlateau reducing learning rate to 7.812500371073838e-06.\n",
      "32/32 [==============================] - 7s 228ms/step - loss: 4.2435 - val_loss: 4.3680 - lr: 1.5625e-05\n",
      "Epoch 57/80\n",
      "32/32 [==============================] - ETA: 0s - loss: 3.7979\n",
      "Epoch 00057: val_loss did not improve from 3.20495\n",
      "32/32 [==============================] - 7s 224ms/step - loss: 3.7979 - val_loss: 4.1713 - lr: 7.8125e-06\n",
      "Epoch 58/80\n",
      "32/32 [==============================] - ETA: 0s - loss: 4.0245\n",
      "Epoch 00058: val_loss did not improve from 3.20495\n",
      "32/32 [==============================] - 7s 224ms/step - loss: 4.0245 - val_loss: 3.5253 - lr: 7.8125e-06\n",
      "Epoch 59/80\n",
      "32/32 [==============================] - ETA: 0s - loss: 4.5479\n",
      "Epoch 00059: val_loss did not improve from 3.20495\n",
      "32/32 [==============================] - 7s 222ms/step - loss: 4.5479 - val_loss: 4.2277 - lr: 7.8125e-06\n",
      "Epoch 60/80\n",
      "32/32 [==============================] - ETA: 0s - loss: 3.8741\n",
      "Epoch 00060: val_loss did not improve from 3.20495\n",
      "32/32 [==============================] - 7s 229ms/step - loss: 3.8741 - val_loss: 3.9668 - lr: 7.8125e-06\n",
      "Epoch 61/80\n",
      "32/32 [==============================] - ETA: 0s - loss: 4.7393\n",
      "Epoch 00061: val_loss did not improve from 3.20495\n",
      "\n",
      "Epoch 00061: ReduceLROnPlateau reducing learning rate to 3.906250185536919e-06.\n",
      "32/32 [==============================] - 7s 228ms/step - loss: 4.7393 - val_loss: 4.0708 - lr: 7.8125e-06\n",
      "Epoch 62/80\n",
      "32/32 [==============================] - ETA: 0s - loss: 3.5707\n",
      "Epoch 00062: val_loss did not improve from 3.20495\n",
      "32/32 [==============================] - 8s 249ms/step - loss: 3.5707 - val_loss: 3.9474 - lr: 3.9063e-06\n",
      "Epoch 63/80\n",
      "32/32 [==============================] - ETA: 0s - loss: 4.4966\n",
      "Epoch 00063: val_loss did not improve from 3.20495\n",
      "32/32 [==============================] - 7s 223ms/step - loss: 4.4966 - val_loss: 4.0148 - lr: 3.9063e-06\n",
      "Epoch 64/80\n",
      "32/32 [==============================] - ETA: 0s - loss: 3.7556\n",
      "Epoch 00064: val_loss did not improve from 3.20495\n",
      "32/32 [==============================] - 7s 226ms/step - loss: 3.7556 - val_loss: 4.0434 - lr: 3.9063e-06\n",
      "Epoch 65/80\n",
      "32/32 [==============================] - ETA: 0s - loss: 4.6024\n",
      "Epoch 00065: val_loss did not improve from 3.20495\n",
      "32/32 [==============================] - 7s 223ms/step - loss: 4.6024 - val_loss: 4.2933 - lr: 3.9063e-06\n",
      "Epoch 66/80\n",
      "32/32 [==============================] - ETA: 0s - loss: 3.6501\n",
      "Epoch 00066: val_loss did not improve from 3.20495\n",
      "\n",
      "Epoch 00066: ReduceLROnPlateau reducing learning rate to 1.9531250927684596e-06.\n",
      "32/32 [==============================] - 7s 221ms/step - loss: 3.6501 - val_loss: 4.6658 - lr: 3.9063e-06\n"
     ]
    },
    {
     "name": "stdout",
     "output_type": "stream",
     "text": [
      "Epoch 67/80\n",
      "32/32 [==============================] - ETA: 0s - loss: 3.6954\n",
      "Epoch 00067: val_loss did not improve from 3.20495\n",
      "32/32 [==============================] - 7s 226ms/step - loss: 3.6954 - val_loss: 3.7512 - lr: 1.9531e-06\n",
      "Epoch 68/80\n",
      "32/32 [==============================] - ETA: 0s - loss: 3.7955\n",
      "Epoch 00068: val_loss did not improve from 3.20495\n",
      "32/32 [==============================] - 7s 219ms/step - loss: 3.7955 - val_loss: 4.1986 - lr: 1.9531e-06\n",
      "Epoch 69/80\n",
      "32/32 [==============================] - ETA: 0s - loss: 4.0233\n",
      "Epoch 00069: val_loss did not improve from 3.20495\n",
      "32/32 [==============================] - 7s 232ms/step - loss: 4.0233 - val_loss: 4.3166 - lr: 1.9531e-06\n",
      "Epoch 70/80\n",
      "32/32 [==============================] - ETA: 0s - loss: 4.4695\n",
      "Epoch 00070: val_loss did not improve from 3.20495\n",
      "32/32 [==============================] - 7s 223ms/step - loss: 4.4695 - val_loss: 3.7967 - lr: 1.9531e-06\n",
      "Epoch 71/80\n",
      "32/32 [==============================] - ETA: 0s - loss: 3.6390\n",
      "Epoch 00071: val_loss did not improve from 3.20495\n",
      "\n",
      "Epoch 00071: ReduceLROnPlateau reducing learning rate to 9.765625463842298e-07.\n",
      "32/32 [==============================] - 7s 222ms/step - loss: 3.6390 - val_loss: 4.5483 - lr: 1.9531e-06\n",
      "Epoch 72/80\n",
      "32/32 [==============================] - ETA: 0s - loss: 4.2373\n",
      "Epoch 00072: val_loss did not improve from 3.20495\n",
      "32/32 [==============================] - 7s 220ms/step - loss: 4.2373 - val_loss: 4.1084 - lr: 9.7656e-07\n",
      "Epoch 73/80\n",
      "32/32 [==============================] - ETA: 0s - loss: 3.8016\n",
      "Epoch 00073: val_loss did not improve from 3.20495\n",
      "32/32 [==============================] - 7s 220ms/step - loss: 3.8016 - val_loss: 4.1079 - lr: 9.7656e-07\n",
      "Epoch 74/80\n",
      "32/32 [==============================] - ETA: 0s - loss: 3.6974\n",
      "Epoch 00074: val_loss did not improve from 3.20495\n",
      "32/32 [==============================] - 7s 221ms/step - loss: 3.6974 - val_loss: 4.1738 - lr: 9.7656e-07\n",
      "Epoch 75/80\n",
      "32/32 [==============================] - ETA: 0s - loss: 4.8644\n",
      "Epoch 00075: val_loss did not improve from 3.20495\n",
      "32/32 [==============================] - 7s 223ms/step - loss: 4.8644 - val_loss: 3.9513 - lr: 9.7656e-07\n",
      "Epoch 76/80\n",
      "32/32 [==============================] - ETA: 0s - loss: 4.6590\n",
      "Epoch 00076: val_loss did not improve from 3.20495\n",
      "\n",
      "Epoch 00076: ReduceLROnPlateau reducing learning rate to 4.882812731921149e-07.\n",
      "32/32 [==============================] - 7s 226ms/step - loss: 4.6590 - val_loss: 3.9022 - lr: 9.7656e-07\n",
      "Epoch 77/80\n",
      "32/32 [==============================] - ETA: 0s - loss: 4.1004\n",
      "Epoch 00077: val_loss did not improve from 3.20495\n",
      "32/32 [==============================] - 7s 224ms/step - loss: 4.1004 - val_loss: 3.4238 - lr: 4.8828e-07\n",
      "Epoch 78/80\n",
      "32/32 [==============================] - ETA: 0s - loss: 4.2425\n",
      "Epoch 00078: val_loss did not improve from 3.20495\n",
      "32/32 [==============================] - 7s 223ms/step - loss: 4.2425 - val_loss: 4.3161 - lr: 4.8828e-07\n",
      "Epoch 79/80\n",
      "32/32 [==============================] - ETA: 0s - loss: 4.0570\n",
      "Epoch 00079: val_loss did not improve from 3.20495\n",
      "32/32 [==============================] - 7s 219ms/step - loss: 4.0570 - val_loss: 4.4045 - lr: 4.8828e-07\n",
      "Epoch 80/80\n",
      "32/32 [==============================] - ETA: 0s - loss: 4.3502\n",
      "Epoch 00080: val_loss did not improve from 3.20495\n",
      "32/32 [==============================] - 7s 220ms/step - loss: 4.3502 - val_loss: 4.3613 - lr: 4.8828e-07\n",
      "Training Complete!!!\n"
     ]
    }
   ],
   "source": [
    "P = np.array(P)\n",
    "subs = []\n",
    "folds_history = []\n",
    "\n",
    "\"\"\"\n",
    "er = tf.keras.callbacks.EarlyStopping(monitor=\"val_loss\",min_delta=1e-3,patience=15,verbose=1,mode=\"auto\",baseline=None,\n",
    "      restore_best_weights=True,) #Stop training when a monitored metric has stopped improving.\n",
    "\"\"\"\n",
    "\n",
    "cpt = tf.keras.callbacks.ModelCheckpoint(filepath=f'{MODEL_CLASS}_{EPOCHS}_epochs.h5',monitor='val_loss',verbose=1, \n",
    "    save_best_only=SAVE_BEST,mode='auto') #to save model or weights in a checkpoint file at lowest validation loss\n",
    "\n",
    "rlp = tf.keras.callbacks.ReduceLROnPlateau(monitor='val_loss',factor=0.5,patience=5, verbose=1, min_lr=1e-8) \n",
    "     #Reduce learning rate when a metric has stopped improving.\n",
    "     # if improvement stops, after 5 epochs learning rate will be reduced\n",
    "\n",
    "model = build_model(model_class=MODEL_CLASS)\n",
    "model.compile(optimizer=tf.keras.optimizers.Adam(learning_rate=LR), loss=\"mae\") \n",
    "history = model.fit(IGenerator(keys=tr_p, a = A, tab = TAB, batch_size=BATCH_SIZE), \n",
    "                    steps_per_epoch = 32,\n",
    "                    validation_data=IGenerator(keys=vl_p, a = A, tab = TAB, batch_size=BATCH_SIZE),\n",
    "                    validation_steps = 32, \n",
    "                    callbacks = [cpt, rlp], \n",
    "                    epochs=EPOCHS)\n",
    "folds_history.append(history.history)\n",
    "print('Training Complete!!!')"
   ]
  },
  {
   "cell_type": "markdown",
   "metadata": {},
   "source": [
    "# Save Model History "
   ]
  },
  {
   "cell_type": "code",
   "execution_count": 15,
   "metadata": {},
   "outputs": [],
   "source": [
    "# convert the history.history dict to a pandas DataFrame:     \n",
    "hist_df = pd.DataFrame(history.history) \n",
    "\n",
    "# save to json:  \n",
    "hist_json_file = 'EffNet_b0_history_80_epoch_imagenet.json' \n",
    "with open(hist_json_file, mode='w') as f:\n",
    "    hist_df.to_json(f)\n",
    "\n",
    "# or save to csv: \n",
    "hist_csv_file = 'EffNet_b0_history_80_epoch_imagenet.csv'\n",
    "with open(hist_csv_file, mode='w') as f:\n",
    "    hist_df.to_csv(f)"
   ]
  },
  {
   "cell_type": "markdown",
   "metadata": {},
   "source": [
    "# Visualize Training Results"
   ]
  },
  {
   "cell_type": "code",
   "execution_count": 16,
   "metadata": {},
   "outputs": [],
   "source": [
    "result_dir = 'C:/Users/Monir/Documents/CSE499/results_and_figures/EfficientNet/B0/'\n",
    "loss = history.history['loss']\n",
    "val_loss = history.history['val_loss']\n",
    "epochs_range = range(EPOCHS) "
   ]
  },
  {
   "cell_type": "code",
   "execution_count": 17,
   "metadata": {},
   "outputs": [
    {
     "data": {
      "image/png": "[encoded data removed]",
      "text/plain": [
       "<Figure size 432x288 with 1 Axes>"
      ]
     },
     "metadata": {
      "needs_background": "light"
     },
     "output_type": "display_data"
    }
   ],
   "source": [
    "plt.plot(epochs_range, loss, 'bo', label='Training Loss')\n",
    "plt.plot(epochs_range, val_loss, 'b', label='Validation Loss')\n",
    "plt.title('Training and Validation Loss')\n",
    "plt.xlabel('Epochs')\n",
    "plt.ylabel('Loss')\n",
    "plt.legend(loc='upper right')\n",
    "plt.savefig(result_dir + 'b0_80_epoch_loss_imagenet.png')\n",
    "plt.savefig(result_dir + 'b0_80_epoch_loss_imagenet.pdf', dpi=150)\n",
    "tikzplotlib.save(result_dir + 'b0_80_epoch_loss_imagenet.tex')\n",
    "\n",
    "plt.show()"
   ]
  },
  {
   "cell_type": "code",
   "execution_count": 18,
   "metadata": {},
   "outputs": [],
   "source": [
    "def smooth_curve(points, factor=0.9):\n",
    "    smoothed_points = []\n",
    "    for point in points:\n",
    "        if smoothed_points:\n",
    "            previous = smoothed_points[-1]\n",
    "            smoothed_points.append(previous * factor + point * (1 - factor))\n",
    "        else:\n",
    "            smoothed_points.append(point)\n",
    "    return smoothed_points"
   ]
  },
  {
   "cell_type": "code",
   "execution_count": 19,
   "metadata": {
    "scrolled": true
   },
   "outputs": [
    {
     "data": {
      "image/png": "[encoded data removed]",
      "text/plain": [
       "<Figure size 432x288 with 1 Axes>"
      ]
     },
     "metadata": {
      "needs_background": "light"
     },
     "output_type": "display_data"
    }
   ],
   "source": [
    "epochs_range = range(20,EPOCHS)\n",
    "plt.plot(epochs_range,\n",
    "         smooth_curve(loss[20:]), 'bo', label='Training loss')\n",
    "plt.plot(epochs_range,\n",
    "         smooth_curve(val_loss[20:]), 'b', label='Validation loss')\n",
    "plt.title('Training and validation loss')\n",
    "plt.xlabel('Epochs')\n",
    "plt.ylabel('Loss')\n",
    "plt.legend()\n",
    "\n",
    "\n",
    "plt.savefig(result_dir + 'b0_80_epoch_loss_smooth_imagenet.png')\n",
    "plt.savefig(result_dir + 'b0_80_epoch_loss_smooth_imagenet.pdf', dpi=150)\n",
    "tikzplotlib.save(result_dir + 'b0_80_epoch_loss_smooth_imagenet.tex')\n",
    "\n",
    "plt.show()"
   ]
  },
  {
   "cell_type": "code",
   "execution_count": 20,
   "metadata": {},
   "outputs": [],
   "source": [
    "def score(fvc_true, fvc_pred, sigma):\n",
    "    sigma_clip = np.maximum(sigma, 70)\n",
    "    delta = np.abs(fvc_true - fvc_pred)\n",
    "    delta = np.minimum(delta, 1000)\n",
    "    sq2 = np.sqrt(2)\n",
    "    metric = (delta / sigma_clip)*sq2 + np.log(sigma_clip* sq2)\n",
    "    return np.mean(metric)"
   ]
  },
  {
   "cell_type": "code",
   "execution_count": 21,
   "metadata": {},
   "outputs": [
    {
     "data": {
      "application/vnd.jupyter.widget-view+json": {
       "model_id": "f3330ffe273a423e95756c3d0807f63b",
       "version_major": 2,
       "version_minor": 0
      },
      "text/plain": [
       "HBox(children=(HTML(value=''), FloatProgress(value=0.0, max=9.0), HTML(value='')))"
      ]
     },
     "metadata": {},
     "output_type": "display_data"
    },
    {
     "name": "stdout",
     "output_type": "stream",
     "text": [
      "6.666543377023837\n",
      "6.683889660149324\n",
      "6.693140257062011\n",
      "6.701025305882696\n",
      "6.708289593072168\n",
      "6.719876136865974\n",
      "6.73387331794719\n",
      "6.747484426606877\n",
      "6.761458278579007\n",
      "\n"
     ]
    }
   ],
   "source": [
    "metric = []\n",
    "for q in tqdm(range(1, 10)):\n",
    "    m = []\n",
    "    for p in vl_p:\n",
    "        x = [] \n",
    "        tab = [] \n",
    "        \n",
    "        if p in ['ID00011637202177653955184', 'ID00052637202186188008618']:\n",
    "            continue\n",
    "        for i in os.listdir(f'D:/CSE499/osic-pulmonary-fibrosis-progression/train/{p}/'):\n",
    "            x.append(get_img(f'D:/CSE499/osic-pulmonary-fibrosis-progression/train/{p}/{i}')) \n",
    "            tab.append(get_tab(train.loc[train.Patient == p, :])) \n",
    "        tab = np.array(tab) \n",
    "    \n",
    "        x = np.expand_dims(x, axis=-1) \n",
    "        _a = model.predict([x, tab]) \n",
    "        a = np.quantile(_a, q / 10)\n",
    "        \n",
    "        percent_true = train.Percent.values[train.Patient == p]\n",
    "        fvc_true = train.FVC.values[train.Patient == p]\n",
    "        weeks_true = train.Weeks.values[train.Patient == p]\n",
    "        \n",
    "        fvc = a * (weeks_true - weeks_true[0]) + fvc_true[0]\n",
    "        percent = percent_true[0] - a * abs(weeks_true - weeks_true[0])\n",
    "        m.append(score(fvc_true, fvc, percent))\n",
    "    print(np.mean(m))\n",
    "    metric.append(np.mean(m))"
   ]
  },
  {
   "cell_type": "code",
   "execution_count": 22,
   "metadata": {},
   "outputs": [
    {
     "data": {
      "text/plain": [
       "0.1"
      ]
     },
     "execution_count": 22,
     "metadata": {},
     "output_type": "execute_result"
    }
   ],
   "source": [
    "q = (np.argmin(metric) + 1)/ 10\n",
    "q"
   ]
  },
  {
   "cell_type": "code",
   "execution_count": 23,
   "metadata": {},
   "outputs": [
    {
     "data": {
      "text/html": [
       "<div>\n",
       "<style scoped>\n",
       "    .dataframe tbody tr th:only-of-type {\n",
       "        vertical-align: middle;\n",
       "    }\n",
       "\n",
       "    .dataframe tbody tr th {\n",
       "        vertical-align: top;\n",
       "    }\n",
       "\n",
       "    .dataframe thead th {\n",
       "        text-align: right;\n",
       "    }\n",
       "</style>\n",
       "<table border=\"1\" class=\"dataframe\">\n",
       "  <thead>\n",
       "    <tr style=\"text-align: right;\">\n",
       "      <th></th>\n",
       "      <th>Patient_Week</th>\n",
       "      <th>FVC</th>\n",
       "      <th>Confidence</th>\n",
       "    </tr>\n",
       "  </thead>\n",
       "  <tbody>\n",
       "    <tr>\n",
       "      <th>0</th>\n",
       "      <td>ID00419637202311204720264_-12</td>\n",
       "      <td>2000</td>\n",
       "      <td>100</td>\n",
       "    </tr>\n",
       "    <tr>\n",
       "      <th>1</th>\n",
       "      <td>ID00421637202311550012437_-12</td>\n",
       "      <td>2000</td>\n",
       "      <td>100</td>\n",
       "    </tr>\n",
       "    <tr>\n",
       "      <th>2</th>\n",
       "      <td>ID00422637202311677017371_-12</td>\n",
       "      <td>2000</td>\n",
       "      <td>100</td>\n",
       "    </tr>\n",
       "    <tr>\n",
       "      <th>3</th>\n",
       "      <td>ID00423637202312137826377_-12</td>\n",
       "      <td>2000</td>\n",
       "      <td>100</td>\n",
       "    </tr>\n",
       "    <tr>\n",
       "      <th>4</th>\n",
       "      <td>ID00426637202313170790466_-12</td>\n",
       "      <td>2000</td>\n",
       "      <td>100</td>\n",
       "    </tr>\n",
       "  </tbody>\n",
       "</table>\n",
       "</div>"
      ],
      "text/plain": [
       "                    Patient_Week   FVC  Confidence\n",
       "0  ID00419637202311204720264_-12  2000         100\n",
       "1  ID00421637202311550012437_-12  2000         100\n",
       "2  ID00422637202311677017371_-12  2000         100\n",
       "3  ID00423637202312137826377_-12  2000         100\n",
       "4  ID00426637202313170790466_-12  2000         100"
      ]
     },
     "execution_count": 23,
     "metadata": {},
     "output_type": "execute_result"
    }
   ],
   "source": [
    "sub = pd.read_csv('D:/CSE499/osic-pulmonary-fibrosis-progression/sample_submission.csv') \n",
    "sub.head()"
   ]
  },
  {
   "cell_type": "code",
   "execution_count": 24,
   "metadata": {},
   "outputs": [
    {
     "data": {
      "text/html": [
       "<div>\n",
       "<style scoped>\n",
       "    .dataframe tbody tr th:only-of-type {\n",
       "        vertical-align: middle;\n",
       "    }\n",
       "\n",
       "    .dataframe tbody tr th {\n",
       "        vertical-align: top;\n",
       "    }\n",
       "\n",
       "    .dataframe thead th {\n",
       "        text-align: right;\n",
       "    }\n",
       "</style>\n",
       "<table border=\"1\" class=\"dataframe\">\n",
       "  <thead>\n",
       "    <tr style=\"text-align: right;\">\n",
       "      <th></th>\n",
       "      <th>Patient</th>\n",
       "      <th>Weeks</th>\n",
       "      <th>FVC</th>\n",
       "      <th>Percent</th>\n",
       "      <th>Age</th>\n",
       "      <th>Sex</th>\n",
       "      <th>SmokingStatus</th>\n",
       "    </tr>\n",
       "  </thead>\n",
       "  <tbody>\n",
       "    <tr>\n",
       "      <th>0</th>\n",
       "      <td>ID00419637202311204720264</td>\n",
       "      <td>6</td>\n",
       "      <td>3020</td>\n",
       "      <td>70.186855</td>\n",
       "      <td>73</td>\n",
       "      <td>Male</td>\n",
       "      <td>Ex-smoker</td>\n",
       "    </tr>\n",
       "    <tr>\n",
       "      <th>1</th>\n",
       "      <td>ID00421637202311550012437</td>\n",
       "      <td>15</td>\n",
       "      <td>2739</td>\n",
       "      <td>82.045291</td>\n",
       "      <td>68</td>\n",
       "      <td>Male</td>\n",
       "      <td>Ex-smoker</td>\n",
       "    </tr>\n",
       "    <tr>\n",
       "      <th>2</th>\n",
       "      <td>ID00422637202311677017371</td>\n",
       "      <td>6</td>\n",
       "      <td>1930</td>\n",
       "      <td>76.672493</td>\n",
       "      <td>73</td>\n",
       "      <td>Male</td>\n",
       "      <td>Ex-smoker</td>\n",
       "    </tr>\n",
       "    <tr>\n",
       "      <th>3</th>\n",
       "      <td>ID00423637202312137826377</td>\n",
       "      <td>17</td>\n",
       "      <td>3294</td>\n",
       "      <td>79.258903</td>\n",
       "      <td>72</td>\n",
       "      <td>Male</td>\n",
       "      <td>Ex-smoker</td>\n",
       "    </tr>\n",
       "    <tr>\n",
       "      <th>4</th>\n",
       "      <td>ID00426637202313170790466</td>\n",
       "      <td>0</td>\n",
       "      <td>2925</td>\n",
       "      <td>71.824968</td>\n",
       "      <td>73</td>\n",
       "      <td>Male</td>\n",
       "      <td>Never smoked</td>\n",
       "    </tr>\n",
       "  </tbody>\n",
       "</table>\n",
       "</div>"
      ],
      "text/plain": [
       "                     Patient  Weeks   FVC    Percent  Age   Sex SmokingStatus\n",
       "0  ID00419637202311204720264      6  3020  70.186855   73  Male     Ex-smoker\n",
       "1  ID00421637202311550012437     15  2739  82.045291   68  Male     Ex-smoker\n",
       "2  ID00422637202311677017371      6  1930  76.672493   73  Male     Ex-smoker\n",
       "3  ID00423637202312137826377     17  3294  79.258903   72  Male     Ex-smoker\n",
       "4  ID00426637202313170790466      0  2925  71.824968   73  Male  Never smoked"
      ]
     },
     "execution_count": 24,
     "metadata": {},
     "output_type": "execute_result"
    }
   ],
   "source": [
    "test = pd.read_csv('D:/CSE499/osic-pulmonary-fibrosis-progression/test.csv') \n",
    "test"
   ]
  },
  {
   "cell_type": "code",
   "execution_count": 25,
   "metadata": {},
   "outputs": [],
   "source": [
    "A_test, B_test, P_test, W, FVC, STD, WEEK = {},{},{},{},{},{},{} \n",
    "\n",
    "for p in test.Patient.unique():\n",
    "    x = [] \n",
    "    tab = [] \n",
    "    for i in os.listdir(f'D:/CSE499/osic-pulmonary-fibrosis-progression/test/{p}/'):\n",
    "        x.append(get_img(f'D:/CSE499/osic-pulmonary-fibrosis-progression/test/{p}/{i}')) \n",
    "        tab.append(get_tab(test.loc[test.Patient == p, :])) \n",
    "    tab = np.array(tab) \n",
    "            \n",
    "    x = np.expand_dims(x, axis=-1) \n",
    "    _a = model.predict([x, tab]) \n",
    "    a = np.quantile(_a, q)\n",
    "    A_test[p] = a\n",
    "    B_test[p] = test.FVC.values[test.Patient == p] - a*test.Weeks.values[test.Patient == p]\n",
    "    P_test[p] = test.Percent.values[test.Patient == p] \n",
    "    WEEK[p] = test.Weeks.values[test.Patient == p]"
   ]
  },
  {
   "cell_type": "code",
   "execution_count": 26,
   "metadata": {},
   "outputs": [],
   "source": [
    "for k in sub.Patient_Week.values:\n",
    "    p, w = k.split('_')\n",
    "    w = int(w) \n",
    "    \n",
    "    fvc = A_test[p] * w + B_test[p]\n",
    "    sub.loc[sub.Patient_Week == k, 'FVC'] = fvc\n",
    "    sub.loc[sub.Patient_Week == k, 'Confidence'] = (\n",
    "        P_test[p] - A_test[p] * abs(WEEK[p] - w) \n",
    ") "
   ]
  },
  {
   "cell_type": "code",
   "execution_count": 27,
   "metadata": {},
   "outputs": [
    {
     "data": {
      "text/html": [
       "<div>\n",
       "<style scoped>\n",
       "    .dataframe tbody tr th:only-of-type {\n",
       "        vertical-align: middle;\n",
       "    }\n",
       "\n",
       "    .dataframe tbody tr th {\n",
       "        vertical-align: top;\n",
       "    }\n",
       "\n",
       "    .dataframe thead th {\n",
       "        text-align: right;\n",
       "    }\n",
       "</style>\n",
       "<table border=\"1\" class=\"dataframe\">\n",
       "  <thead>\n",
       "    <tr style=\"text-align: right;\">\n",
       "      <th></th>\n",
       "      <th>Patient_Week</th>\n",
       "      <th>FVC</th>\n",
       "      <th>Confidence</th>\n",
       "    </tr>\n",
       "  </thead>\n",
       "  <tbody>\n",
       "    <tr>\n",
       "      <th>0</th>\n",
       "      <td>ID00419637202311204720264_-12</td>\n",
       "      <td>3078.462243</td>\n",
       "      <td>128.649098</td>\n",
       "    </tr>\n",
       "    <tr>\n",
       "      <th>1</th>\n",
       "      <td>ID00421637202311550012437_-12</td>\n",
       "      <td>2819.858889</td>\n",
       "      <td>162.904180</td>\n",
       "    </tr>\n",
       "    <tr>\n",
       "      <th>2</th>\n",
       "      <td>ID00422637202311677017371_-12</td>\n",
       "      <td>2023.920631</td>\n",
       "      <td>170.593124</td>\n",
       "    </tr>\n",
       "    <tr>\n",
       "      <th>3</th>\n",
       "      <td>ID00423637202312137826377_-12</td>\n",
       "      <td>3483.026007</td>\n",
       "      <td>268.284910</td>\n",
       "    </tr>\n",
       "    <tr>\n",
       "      <th>4</th>\n",
       "      <td>ID00426637202313170790466_-12</td>\n",
       "      <td>2968.129965</td>\n",
       "      <td>114.954933</td>\n",
       "    </tr>\n",
       "  </tbody>\n",
       "</table>\n",
       "</div>"
      ],
      "text/plain": [
       "                    Patient_Week          FVC  Confidence\n",
       "0  ID00419637202311204720264_-12  3078.462243  128.649098\n",
       "1  ID00421637202311550012437_-12  2819.858889  162.904180\n",
       "2  ID00422637202311677017371_-12  2023.920631  170.593124\n",
       "3  ID00423637202312137826377_-12  3483.026007  268.284910\n",
       "4  ID00426637202313170790466_-12  2968.129965  114.954933"
      ]
     },
     "execution_count": 27,
     "metadata": {},
     "output_type": "execute_result"
    }
   ],
   "source": [
    "sub.head()"
   ]
  },
  {
   "cell_type": "code",
   "execution_count": 28,
   "metadata": {},
   "outputs": [],
   "source": [
    "sub[[\"Patient_Week\",\"FVC\",\"Confidence\"]].to_csv(\"submission.csv\", index=False)"
   ]
  },
  {
   "cell_type": "code",
   "execution_count": 29,
   "metadata": {},
   "outputs": [
    {
     "name": "stdout",
     "output_type": "stream",
     "text": [
      "add infos\n"
     ]
    }
   ],
   "source": [
    "ROOT = \"D:/CSE499/osic-pulmonary-fibrosis-progression\"\n",
    "BATCH_SIZE=128\n",
    "\n",
    "tr = pd.read_csv(f\"{ROOT}/train.csv\")\n",
    "tr.drop_duplicates(keep=False, inplace=True, subset=['Patient','Weeks'])\n",
    "chunk = pd.read_csv(f\"{ROOT}/test.csv\")\n",
    "\n",
    "print(\"add infos\")\n",
    "sub = pd.read_csv(f\"{ROOT}/sample_submission.csv\")\n",
    "sub['Patient'] = sub['Patient_Week'].apply(lambda x:x.split('_')[0])\n",
    "sub['Weeks'] = sub['Patient_Week'].apply(lambda x: int(x.split('_')[-1]))\n",
    "sub =  sub[['Patient','Weeks','Confidence','Patient_Week']]\n",
    "sub = sub.merge(chunk.drop('Weeks', axis=1), on=\"Patient\")"
   ]
  },
  {
   "cell_type": "code",
   "execution_count": 30,
   "metadata": {},
   "outputs": [],
   "source": [
    "tr['WHERE'] = 'train'\n",
    "chunk['WHERE'] = 'val'\n",
    "sub['WHERE'] = 'test'\n",
    "data = tr.append([chunk, sub])"
   ]
  },
  {
   "cell_type": "code",
   "execution_count": 31,
   "metadata": {},
   "outputs": [
    {
     "name": "stdout",
     "output_type": "stream",
     "text": [
      "(1535, 8) (5, 8) (730, 10) (2270, 10)\n",
      "176 5 5 176\n"
     ]
    }
   ],
   "source": [
    "print(tr.shape, chunk.shape, sub.shape, data.shape)\n",
    "print(tr.Patient.nunique(), chunk.Patient.nunique(), sub.Patient.nunique(), \n",
    "      data.Patient.nunique())"
   ]
  },
  {
   "cell_type": "code",
   "execution_count": 32,
   "metadata": {},
   "outputs": [],
   "source": [
    "data['min_week'] = data['Weeks']\n",
    "data.loc[data.WHERE=='test','min_week'] = np.nan\n",
    "data['min_week'] = data.groupby('Patient')['min_week'].transform('min')"
   ]
  },
  {
   "cell_type": "code",
   "execution_count": 33,
   "metadata": {},
   "outputs": [],
   "source": [
    "base = data.loc[data.Weeks == data.min_week]\n",
    "base = base[['Patient','FVC']].copy()\n",
    "base.columns = ['Patient','min_FVC']\n",
    "base['nb'] = 1\n",
    "base['nb'] = base.groupby('Patient')['nb'].transform('cumsum')\n",
    "base = base[base.nb==1]\n",
    "base.drop('nb', axis=1, inplace=True)"
   ]
  },
  {
   "cell_type": "code",
   "execution_count": 34,
   "metadata": {},
   "outputs": [],
   "source": [
    "data = data.merge(base, on='Patient', how='left')\n",
    "data['base_week'] = data['Weeks'] - data['min_week']\n",
    "del base"
   ]
  },
  {
   "cell_type": "code",
   "execution_count": 35,
   "metadata": {},
   "outputs": [],
   "source": [
    "COLS = ['Sex','SmokingStatus'] #,'Age'\n",
    "FE = []\n",
    "for col in COLS:\n",
    "    for mod in data[col].unique():\n",
    "        FE.append(mod)\n",
    "        data[mod] = (data[col] == mod).astype(int)"
   ]
  },
  {
   "cell_type": "code",
   "execution_count": 36,
   "metadata": {},
   "outputs": [],
   "source": [
    "data['age'] = (data['Age'] - data['Age'].min() ) / ( data['Age'].max() - data['Age'].min() )\n",
    "data['BASE'] = (data['min_FVC'] - data['min_FVC'].min() ) / ( data['min_FVC'].max() - data['min_FVC'].min() )\n",
    "data['week'] = (data['base_week'] - data['base_week'].min() ) / ( data['base_week'].max() - data['base_week'].min() )\n",
    "data['percent'] = (data['Percent'] - data['Percent'].min() ) / ( data['Percent'].max() - data['Percent'].min() )\n",
    "FE += ['age','percent','week','BASE']"
   ]
  },
  {
   "cell_type": "code",
   "execution_count": 37,
   "metadata": {},
   "outputs": [],
   "source": [
    "tr = data.loc[data.WHERE=='train']\n",
    "chunk = data.loc[data.WHERE=='val']\n",
    "sub = data.loc[data.WHERE=='test']\n",
    "del data"
   ]
  },
  {
   "cell_type": "code",
   "execution_count": 38,
   "metadata": {},
   "outputs": [
    {
     "data": {
      "text/plain": [
       "((1535, 22), (5, 22), (730, 22))"
      ]
     },
     "execution_count": 38,
     "metadata": {},
     "output_type": "execute_result"
    }
   ],
   "source": [
    "tr.shape, chunk.shape, sub.shape"
   ]
  },
  {
   "cell_type": "code",
   "execution_count": 39,
   "metadata": {},
   "outputs": [],
   "source": [
    "C1, C2 = tf.constant(70, dtype='float32'), tf.constant(1000, dtype=\"float32\")\n",
    "\n",
    "def score(y_true, y_pred):\n",
    "    tf.dtypes.cast(y_true, tf.float32)\n",
    "    tf.dtypes.cast(y_pred, tf.float32)\n",
    "    sigma = y_pred[:, 2] - y_pred[:, 0]\n",
    "    fvc_pred = y_pred[:, 1]\n",
    "    \n",
    "    sigma_clip = tf.maximum(sigma, C1)\n",
    "    delta = tf.abs(y_true[:, 0] - fvc_pred)\n",
    "    delta = tf.minimum(delta, C2)\n",
    "    sq2 = tf.sqrt( tf.dtypes.cast(2, dtype=tf.float32) )\n",
    "    metric = (delta / sigma_clip)*sq2 + tf.math.log(sigma_clip* sq2)\n",
    "    return K.mean(metric)\n",
    "\n",
    "def qloss(y_true, y_pred):\n",
    "    qs = [0.2, 0.50, 0.8]\n",
    "    q = tf.constant(np.array([qs]), dtype=tf.float32)\n",
    "    e = y_true - y_pred\n",
    "    v = tf.maximum(q*e, (q-1)*e)\n",
    "    return K.mean(v)\n",
    "\n",
    "def mloss(_lambda):\n",
    "    def loss(y_true, y_pred):\n",
    "        return _lambda * qloss(y_true, y_pred) + (1 - _lambda)*score(y_true, y_pred)\n",
    "    return loss\n",
    "\n",
    "def laplace_log_likelihood(actual_fvc, predicted_fvc, confidence, return_values = False):\n",
    "    \"\"\"\n",
    "    Calculates the modified Laplace Log Likelihood score for this competition.\n",
    "    \"\"\"\n",
    "    sd_clipped = np.maximum(confidence, 70)\n",
    "    delta = np.minimum(np.abs(actual_fvc - predicted_fvc), 1000)\n",
    "    metric = - np.sqrt(2) * delta / sd_clipped - np.log(np.sqrt(2) * sd_clipped)\n",
    "\n",
    "    if return_values:\n",
    "        return metric\n",
    "    else:\n",
    "        return np.mean(metric)\n",
    "\n",
    "def make_model(nh):\n",
    "    z = L.Input((nh,), name=\"Patient\")\n",
    "    x = L.Dense(100, activation=\"relu\", name=\"d1\")(z)\n",
    "    x = L.Dense(100, activation=\"relu\", name=\"d2\")(x)\n",
    "    p1 = L.Dense(3, activation=\"linear\", name=\"p1\")(x)\n",
    "    p2 = L.Dense(3, activation=\"relu\", name=\"p2\")(x)\n",
    "    preds = L.Lambda(lambda x: x[0] + tf.cumsum(x[1], axis=1), \n",
    "                     name=\"preds\")([p1, p2])\n",
    "    \n",
    "    model = M.Model(z, preds, name=\"CNN\")\n",
    "    #model.compile(loss=qloss, optimizer=\"adam\", metrics=[score])\n",
    "    model.compile(loss=mloss(0.8), optimizer=tf.keras.optimizers.Adam(lr=0.1, beta_1=0.9, beta_2=0.999, epsilon=None, decay=0.01, amsgrad=False), metrics=[score])\n",
    "    return model"
   ]
  },
  {
   "cell_type": "code",
   "execution_count": 40,
   "metadata": {},
   "outputs": [],
   "source": [
    "## GET TRAINING DATA AND TARGET VALUE\n",
    "\n",
    "# get target value\n",
    "y  = tr['FVC'].values\n",
    "\n",
    "# get training & test data\n",
    "X_train = tr[FE].values\n",
    "X_test = sub[FE].values\n",
    "\n",
    "\n",
    "nh = X_train.shape[1]\n",
    "\n",
    "# instantiate target arrays\n",
    "train_preds = np.zeros((X_train.shape[0], 3))\n",
    "test_preds = np.zeros((X_test.shape[0], 3))"
   ]
  },
  {
   "cell_type": "code",
   "execution_count": 41,
   "metadata": {},
   "outputs": [
    {
     "name": "stdout",
     "output_type": "stream",
     "text": [
      "Model: \"CNN\"\n",
      "__________________________________________________________________________________________________\n",
      "Layer (type)                    Output Shape         Param #     Connected to                     \n",
      "==================================================================================================\n",
      "Patient (InputLayer)            [(None, 9)]          0                                            \n",
      "__________________________________________________________________________________________________\n",
      "d1 (Dense)                      (None, 100)          1000        Patient[0][0]                    \n",
      "__________________________________________________________________________________________________\n",
      "d2 (Dense)                      (None, 100)          10100       d1[0][0]                         \n",
      "__________________________________________________________________________________________________\n",
      "p1 (Dense)                      (None, 3)            303         d2[0][0]                         \n",
      "__________________________________________________________________________________________________\n",
      "p2 (Dense)                      (None, 3)            303         d2[0][0]                         \n",
      "__________________________________________________________________________________________________\n",
      "preds (Lambda)                  (None, 3)            0           p1[0][0]                         \n",
      "                                                                 p2[0][0]                         \n",
      "==================================================================================================\n",
      "Total params: 11,706\n",
      "Trainable params: 11,706\n",
      "Non-trainable params: 0\n",
      "__________________________________________________________________________________________________\n",
      "None\n",
      "11706\n"
     ]
    }
   ],
   "source": [
    "net = make_model(nh)\n",
    "print(net.summary())\n",
    "print(net.count_params())"
   ]
  },
  {
   "cell_type": "code",
   "execution_count": 42,
   "metadata": {},
   "outputs": [
    {
     "name": "stdout",
     "output_type": "stream",
     "text": [
      "FOLD 1\n",
      "FOLD 2\n",
      "FOLD 3\n",
      "FOLD 4\n",
      "FOLD 5\n"
     ]
    }
   ],
   "source": [
    "model_cnt = 1\n",
    "# instantiate target arrays\n",
    "globals()['train_preds_{}'.format(model_cnt)] = np.zeros((X_train.shape[0], 3))\n",
    "globals()['test_preds_{}'.format(model_cnt)] = np.zeros((X_test.shape[0], 3))\n",
    "\n",
    "NFOLD = 5\n",
    "gkf = GroupKFold(n_splits=NFOLD)\n",
    "groups = tr['Patient'].values\n",
    "\n",
    "cnt = 0\n",
    "EPOCHS = 800\n",
    "BATCH_SIZE=128\n",
    "for tr_idx, val_idx in gkf.split(X_train, y, groups):\n",
    "    cnt += 1\n",
    "    print(f\"FOLD {cnt}\")\n",
    "    net = make_model(nh)\n",
    "    net.fit(X_train[tr_idx], y[tr_idx], batch_size=BATCH_SIZE, epochs=EPOCHS, \n",
    "            validation_data=(X_train[val_idx], y[val_idx]), verbose=0) #\n",
    "#     print(\"train\", net.evaluate(X_train[tr_idx], y[tr_idx], verbose=0, batch_size=BATCH_SIZE))\n",
    "#     print(\"val\", net.evaluate(X_train[val_idx], y[val_idx], verbose=0, batch_size=BATCH_SIZE))\n",
    "#     print(\"predict val...\")\n",
    "    globals()['train_preds_{}'.format(model_cnt)][val_idx] = net.predict(X_train[val_idx], batch_size=BATCH_SIZE, verbose=0)\n",
    "#     print(\"predict test...\")\n",
    "    globals()['test_preds_{}'.format(model_cnt)] += net.predict(X_test, batch_size=BATCH_SIZE, verbose=0) / NFOLD"
   ]
  },
  {
   "cell_type": "code",
   "execution_count": 43,
   "metadata": {},
   "outputs": [
    {
     "name": "stdout",
     "output_type": "stream",
     "text": [
      "Overall Score:  -6.674684477411223\n"
     ]
    }
   ],
   "source": [
    "predicted_fvc = globals()['train_preds_{}'.format(model_cnt)][:,1]\n",
    "confidence = globals()['train_preds_{}'.format(model_cnt)][:,2]-globals()['train_preds_{}'.format(model_cnt)][:,0]\n",
    "model_score = laplace_log_likelihood(actual_fvc = y, predicted_fvc = predicted_fvc, confidence = confidence,\n",
    "                       return_values = False)\n",
    "print('Overall Score: ', model_score)"
   ]
  },
  {
   "cell_type": "code",
   "execution_count": null,
   "metadata": {},
   "outputs": [],
   "source": []
  }
 ],
 "metadata": {
  "kernelspec": {
   "display_name": "Python 3",
   "language": "python",
   "name": "python3"
  },
  "language_info": {
   "codemirror_mode": {
    "name": "ipython",
    "version": 3
   },
   "file_extension": ".py",
   "mimetype": "text/x-python",
   "name": "python",
   "nbconvert_exporter": "python",
   "pygments_lexer": "ipython3",
   "version": "3.6.12"
  }
 },
 "nbformat": 4,
 "nbformat_minor": 4
}
